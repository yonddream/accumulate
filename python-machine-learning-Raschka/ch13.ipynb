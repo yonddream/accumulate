{
 "cells": [
  {
   "cell_type": "markdown",
   "metadata": {},
   "source": [
    "### 使用Theano并行训练神经网络"
   ]
  },
  {
   "cell_type": "code",
   "execution_count": 1,
   "metadata": {},
   "outputs": [
    {
     "name": "stdout",
     "output_type": "stream",
     "text": [
      "Net input: 2.50\n"
     ]
    }
   ],
   "source": [
    "%matplotlib inline\n",
    "# pip install Theano\n",
    "\n",
    "# 下面是个简单的Theano例子，我们开发Theano代码时，只需要遵循是三个步骤：定义符号（变量对象）、编译代码、执行代码。\n",
    "import theano\n",
    "from theano import tensor as T\n",
    "\n",
    "# initialize\n",
    "x1 = T.scalar()\n",
    "w1 = T.scalar()\n",
    "w0 = T.scalar()\n",
    "z1 = w1 * x1 + w0\n",
    "\n",
    "# compile\n",
    "net_input = theano.function(inputs=[w1, x1, w0], outputs=z1)\n",
    "\n",
    "# execute\n",
    "print('Net input: %.2f' %net_input(2.0, 1.0, 0.5))"
   ]
  },
  {
   "cell_type": "code",
   "execution_count": 2,
   "metadata": {},
   "outputs": [
    {
     "name": "stdout",
     "output_type": "stream",
     "text": [
      "float64\n"
     ]
    }
   ],
   "source": [
    "# 默认是使用双精度浮点格式\n",
    "print(theano.config.floatX)"
   ]
  },
  {
   "cell_type": "code",
   "execution_count": 3,
   "metadata": {},
   "outputs": [
    {
     "name": "stdout",
     "output_type": "stream",
     "text": [
      "float32\n"
     ]
    }
   ],
   "source": [
    "theano.config.floatX = 'float32'\n",
    "print(theano.config.floatX)"
   ]
  },
  {
   "cell_type": "code",
   "execution_count": 4,
   "metadata": {
    "collapsed": true
   },
   "outputs": [],
   "source": [
    "# 改变默认值的其他2种方式\n",
    "# export THEANO_FLAGS=floatX=float32   \n",
    "# THEANO_FLAGS=floatX=float32 python the_script.py    "
   ]
  },
  {
   "cell_type": "code",
   "execution_count": 5,
   "metadata": {},
   "outputs": [
    {
     "name": "stdout",
     "output_type": "stream",
     "text": [
      "cpu\n"
     ]
    }
   ],
   "source": [
    "print(theano.config.device)"
   ]
  },
  {
   "cell_type": "code",
   "execution_count": 6,
   "metadata": {
    "collapsed": true
   },
   "outputs": [],
   "source": [
    "# 使用GPU运行\n",
    "# THEANO_FLAGS=device=gpu,floatX=float32 python the_script.py\n",
    "# echo -e \"\\n[global]\\nfloatX=float32\\ndevice=gpu\\n\" >> ~/.theanorc "
   ]
  },
  {
   "cell_type": "code",
   "execution_count": 7,
   "metadata": {},
   "outputs": [
    {
     "name": "stdout",
     "output_type": "stream",
     "text": [
      "Column sum: [ 2.  4.  6.]\n"
     ]
    }
   ],
   "source": [
    "import numpy as np\n",
    "\n",
    "# initialize\n",
    "x = T.fmatrix(name='x')\n",
    "x_sum = T.sum(x, axis=0)\n",
    "\n",
    "# compile\n",
    "calc_sum = theano.function(inputs=[x], outputs=x_sum)\n",
    "\n",
    "# execute (Python list)\n",
    "ary = [[1, 2, 3], [1, 2, 3]]\n",
    "print('Column sum:', calc_sum(ary))"
   ]
  },
  {
   "cell_type": "code",
   "execution_count": 8,
   "metadata": {},
   "outputs": [
    {
     "name": "stdout",
     "output_type": "stream",
     "text": [
      "Column sum: [ 2.  4.  6.]\n"
     ]
    }
   ],
   "source": [
    "# execute (numpy array)\n",
    "ary = np.array([[1,2,3], [1,2,3]], dtype=theano.config.floatX)\n",
    "print('Column sum:', calc_sum(ary))"
   ]
  },
  {
   "cell_type": "code",
   "execution_count": 9,
   "metadata": {},
   "outputs": [
    {
     "name": "stdout",
     "output_type": "stream",
     "text": [
      "x\n",
      "TensorType(float32, matrix)\n"
     ]
    }
   ],
   "source": [
    "print(x)\n",
    "print(x.type)"
   ]
  },
  {
   "cell_type": "code",
   "execution_count": 10,
   "metadata": {},
   "outputs": [
    {
     "name": "stdout",
     "output_type": "stream",
     "text": [
      "z0:  [[ 0.]]\n",
      "z1:  [[ 6.]]\n",
      "z2:  [[ 12.]]\n",
      "z3:  [[ 18.]]\n",
      "z4:  [[ 24.]]\n"
     ]
    }
   ],
   "source": [
    "# initialize\n",
    "x = T.fmatrix('x')\n",
    "w = theano.shared(np.asarray([[0.0, 0.0, 0.0]], dtype=theano.config.floatX))\n",
    "z = x.dot(w.T)\n",
    "update = [[w, w + 1.0]]\n",
    "# 定义了一个变量update，每次迭代后，数组w加1以更新，可以将update传入theano\n",
    "\n",
    "# compile\n",
    "net_input = theano.function(inputs=[x], updates=update, outputs=z)\n",
    "\n",
    "# execute\n",
    "data = np.array([[1,2,3]], dtype=theano.config.floatX)\n",
    "for i in range(5):\n",
    "    print('z%d: '% i, net_input(data))"
   ]
  },
  {
   "cell_type": "code",
   "execution_count": 11,
   "metadata": {},
   "outputs": [
    {
     "name": "stdout",
     "output_type": "stream",
     "text": [
      "z:  [[ 0.]]\n",
      "z:  [[ 6.]]\n",
      "z:  [[ 12.]]\n",
      "z:  [[ 18.]]\n",
      "z:  [[ 24.]]\n"
     ]
    }
   ],
   "source": [
    "# initialize\n",
    "data = np.array([[1, 2, 3]], dtype=theano.config.floatX)\n",
    "x = T.fmatrix('x')\n",
    "w = theano.shared(np.asarray([[0.0, 0.0, 0.0]], dtype=theano.config.floatX))\n",
    "z = x.dot(w.T)\n",
    "update = [[w, w+1.0]]\n",
    "\n",
    "# compile\n",
    "# 我们使用inputs数据会在CPU和GPU之间多次传输，可以使用givens将数据加载到GPU内存中。\n",
    "net_input = theano.function(inputs=[],  updates=update,  givens={x: data},  outputs=z)\n",
    "\n",
    "# execute\n",
    "for i in range(5):\n",
    "    print('z: ', net_input())"
   ]
  },
  {
   "cell_type": "code",
   "execution_count": 12,
   "metadata": {
    "collapsed": true
   },
   "outputs": [],
   "source": [
    "# Linear Regression Example\n",
    "\n",
    "X_train = np.asarray([[0.0], [1.0], [2.0], [3.0], [4.0], [5.0], [6.0], [7.0], [8.0], [9.0]],\n",
    "                     dtype=theano.config.floatX)\n",
    "y_train = np.asarray([1.0,  1.3,  3.1,  2.0,  5.0,  6.3,  6.6,  7.4,  8.0,  9.0],\n",
    "                     dtype=theano.config.floatX)"
   ]
  },
  {
   "cell_type": "code",
   "execution_count": 13,
   "metadata": {
    "collapsed": true
   },
   "outputs": [],
   "source": [
    "import theano\n",
    "from theano import tensor as T\n",
    "import numpy as np\n",
    "\n",
    "\n",
    "def train_linreg(X_train, y_train, eta, epochs):\n",
    "    costs = []\n",
    "    # initialize arrays\n",
    "    eta0 = T.scalar('eta0')\n",
    "    y = T.fvector('y')\n",
    "    X = T.fmatrix('X')\n",
    "    w = theano.shared(np.zeros(shape=(X_train.shape[1] + 1), dtype=theano.config.floatX), name='w')\n",
    "\n",
    "    # calculate cost\n",
    "    net_input = T.dot(X, w[1:]) + w[0]\n",
    "    errors = y - net_input\n",
    "    cost = T.sum(T.pow(errors, 2))\n",
    "\n",
    "    # perform gradient update\n",
    "    gradient = T.grad(cost, wrt=w)\n",
    "    update = [(w, w - eta0 * gradient)]\n",
    "\n",
    "    # compile model\n",
    "    train = theano.function(inputs=[eta0], outputs=cost, updates=update, givens={X: X_train, y: y_train})\n",
    "\n",
    "    for _ in range(epochs):\n",
    "        costs.append(train(eta))\n",
    "\n",
    "    return costs, w"
   ]
  },
  {
   "cell_type": "code",
   "execution_count": 14,
   "metadata": {},
   "outputs": [
    {
     "data": {
      "image/png": "[encoded data removed]",
      "text/plain": [
       "<matplotlib.figure.Figure at 0x10c5cf588>"
      ]
     },
     "metadata": {},
     "output_type": "display_data"
    }
   ],
   "source": [
    "import matplotlib.pyplot as plt\n",
    "costs,w = train_linreg(X_train, y_train, eta=0.001, epochs=10)\n",
    "plt.plot(range(1, len(costs)+1), costs)\n",
    "plt.tight_layout()\n",
    "plt.xlabel('epoch')\n",
    "plt.ylabel('cost')\n",
    "plt.show()"
   ]
  },
  {
   "cell_type": "code",
   "execution_count": 15,
   "metadata": {
    "collapsed": true
   },
   "outputs": [],
   "source": [
    "# 预测函数\n",
    "def predict_linreg(X, w):\n",
    "    Xt = T.matrix(name='X')\n",
    "    net_input = T.dot(Xt, w[1:]) + w[0]\n",
    "    predict = theano.function(inputs=[Xt], givens={w: w}, outputs=net_input)\n",
    "    \n",
    "    return predict(X)"
   ]
  },
  {
   "cell_type": "code",
   "execution_count": 16,
   "metadata": {},
   "outputs": [
    {
     "data": {
      "image/png": "[encoded data removed]",
      "text/plain": [
       "<matplotlib.figure.Figure at 0x10c6d29e8>"
      ]
     },
     "metadata": {},
     "output_type": "display_data"
    }
   ],
   "source": [
    "plt.scatter(X_train, y_train, marker='s', s=50)\n",
    "# print('Xtrain.shape: ', X_train.shape, '\\n Predict_linreg: ', predict_linreg(X_train, w))\n",
    "plt.plot(range(X_train.shape[0]), predict_linreg(X_train, w), \n",
    "        color='gray', \n",
    "        marker='o', \n",
    "        markersize=4, \n",
    "        linewidth=3)\n",
    "plt.xlabel('x')\n",
    "plt.ylabel('y')\n",
    "plt.show()"
   ]
  },
  {
   "cell_type": "code",
   "execution_count": 17,
   "metadata": {},
   "outputs": [
    {
     "name": "stdout",
     "output_type": "stream",
     "text": [
      "P(y=1|x) = 0.707\n"
     ]
    }
   ],
   "source": [
    "X = np.array([[1.0,  1.4,  1.5]])\n",
    "w = np.array([0.0, 0.2, 0.4])\n",
    "\n",
    "def net_input(X, w):\n",
    "    z = X.dot(w)\n",
    "    return z\n",
    "\n",
    "def logistic(z):\n",
    "    return 1.0 / (1.0 + np.exp(-z))\n",
    "\n",
    "def logistic_activation(X, w):\n",
    "    z = net_input(X, w)\n",
    "    return logistic(z)\n",
    "\n",
    "print('P(y=1|x) = %.3f' % logistic_activation(X, w)[0])"
   ]
  },
  {
   "cell_type": "code",
   "execution_count": 18,
   "metadata": {},
   "outputs": [
    {
     "name": "stdout",
     "output_type": "stream",
     "text": [
      "Probabilities:\n",
      " [[ 0.87653295]\n",
      " [ 0.57688526]\n",
      " [ 0.90114393]]\n"
     ]
    }
   ],
   "source": [
    "W = np.array([[1.1, 1.2, 1.3, 0.5], \n",
    "             [0.1, 0.2, 0.4, 0.1], \n",
    "             [0.2, 0.5, 2.1, 1.9]])\n",
    "A = np.array([[1.0], \n",
    "             [0.1], \n",
    "             [0.3], \n",
    "             [0.7]])\n",
    "Z = W.dot(A)\n",
    "y_probas = logistic(Z)\n",
    "\n",
    "print('Probabilities:\\n', y_probas)"
   ]
  },
  {
   "cell_type": "code",
   "execution_count": 19,
   "metadata": {},
   "outputs": [
    {
     "name": "stdout",
     "output_type": "stream",
     "text": [
      "predicted class label: 2\n"
     ]
    }
   ],
   "source": [
    "y_class = np.argmax(Z, axis=0)\n",
    "print('predicted class label: %d' % y_class[0])"
   ]
  },
  {
   "cell_type": "code",
   "execution_count": 20,
   "metadata": {},
   "outputs": [
    {
     "name": "stdout",
     "output_type": "stream",
     "text": [
      "Probabilities:\n",
      " [[ 0.40386493]\n",
      " [ 0.07756222]\n",
      " [ 0.51857284]]\n"
     ]
    }
   ],
   "source": [
    "def softmax(z):\n",
    "    return np.exp(z) / np.sum(np.exp(z))\n",
    "\n",
    "def softmax_activation(X, w):\n",
    "    z = net_input(X, w)\n",
    "    return softmax(z)\n",
    "\n",
    "y_probas = softmax(Z)\n",
    "print('Probabilities:\\n', y_probas)"
   ]
  },
  {
   "cell_type": "code",
   "execution_count": 21,
   "metadata": {},
   "outputs": [
    {
     "data": {
      "text/plain": [
       "1.0"
      ]
     },
     "execution_count": 21,
     "metadata": {},
     "output_type": "execute_result"
    }
   ],
   "source": [
    "y_probas.sum()"
   ]
  },
  {
   "cell_type": "code",
   "execution_count": 22,
   "metadata": {},
   "outputs": [
    {
     "name": "stdout",
     "output_type": "stream",
     "text": [
      "predicted class label: 2\n"
     ]
    }
   ],
   "source": [
    "y_class = np.argmax(Z, axis=0)\n",
    "print('predicted class label: %d' % y_class[0])"
   ]
  },
  {
   "cell_type": "code",
   "execution_count": 23,
   "metadata": {},
   "outputs": [
    {
     "data": {
      "image/png": "[encoded data removed]",
      "text/plain": [
       "<matplotlib.figure.Figure at 0x10c998b38>"
      ]
     },
     "metadata": {},
     "output_type": "display_data"
    }
   ],
   "source": [
    "def tanh(z):\n",
    "    e_p = np.exp(z) \n",
    "    e_m = np.exp(-z)\n",
    "    return (e_p - e_m) / (e_p + e_m)  \n",
    "\n",
    "import matplotlib.pyplot as plt\n",
    "\n",
    "z = np.arange(-5, 5, 0.005)\n",
    "log_act = logistic(z)\n",
    "tanh_act = tanh(z)\n",
    "\n",
    "# alternatives:\n",
    "# from scipy.special import expit\n",
    "# log_act = expit(z)\n",
    "# tanh_act = np.tanh(z)\n",
    "\n",
    "plt.ylim([-1.5, 1.5])\n",
    "plt.xlabel('net input $z$')\n",
    "plt.ylabel('activation $\\phi(z)$')\n",
    "plt.axhline(1, color='black', linestyle='--')\n",
    "plt.axhline(0.5, color='black', linestyle='--')\n",
    "plt.axhline(0, color='black', linestyle='--')\n",
    "plt.axhline(-1, color='black', linestyle='--')\n",
    "\n",
    "plt.plot(z, tanh_act, \n",
    "         linewidth=2, \n",
    "         color='black', \n",
    "         label='tanh')\n",
    "plt.plot(z, log_act, \n",
    "         linewidth=2, \n",
    "         color='lightgreen', \n",
    "         label='logistic')\n",
    "\n",
    "plt.legend(loc='lower right')\n",
    "plt.tight_layout()\n",
    "\n",
    "plt.show()\n",
    "# tanh和sigmoid函数曲线对比"
   ]
  },
  {
   "cell_type": "markdown",
   "metadata": {},
   "source": [
    "### 使用Keras训练神经网络"
   ]
  },
  {
   "cell_type": "code",
   "execution_count": 24,
   "metadata": {
    "collapsed": true
   },
   "outputs": [],
   "source": [
    "import os\n",
    "import struct\n",
    "import numpy as np\n",
    "\n",
    "def load_mnist(path, kind='train'):\n",
    "    \"\"\"Load MNIST data from 'path'\"\"\"\n",
    "    labels_path = os.path.join(path, '%s-labels-idx1-ubyte'%kind)\n",
    "    images_path = os.path.join(path, '%s-images-idx3-ubyte'%kind)\n",
    "    with open(labels_path,  'rb') as lbpath:\n",
    "        magic, n = struct.unpack('>II', lbpath.read(8))\n",
    "        labels = np.fromfile(lbpath, dtype=np.uint8)\n",
    "    with open(images_path, 'rb') as imgpath:\n",
    "        masgic, num, rows, cols = struct.unpack(\">IIII\", imgpath.read(16))\n",
    "        images = np.fromfile(imgpath, dtype=np.uint8).reshape(len(labels), 784)\n",
    "\n",
    "    return images, labels"
   ]
  },
  {
   "cell_type": "code",
   "execution_count": 25,
   "metadata": {},
   "outputs": [
    {
     "name": "stdout",
     "output_type": "stream",
     "text": [
      "Rows: 60000, columns: 784\n"
     ]
    }
   ],
   "source": [
    "X_train, y_train = load_mnist('mnist', kind='train')\n",
    "print('Rows: %d, columns: %d'%(X_train.shape[0], X_train.shape[1]))"
   ]
  },
  {
   "cell_type": "code",
   "execution_count": 26,
   "metadata": {},
   "outputs": [
    {
     "name": "stdout",
     "output_type": "stream",
     "text": [
      "Rows: 10000, columns: 784\n"
     ]
    }
   ],
   "source": [
    "X_test, y_test = load_mnist('mnist', kind='t10k')\n",
    "print('Rows: %d, columns: %d'%(X_test.shape[0], X_test.shape[1]))"
   ]
  },
  {
   "cell_type": "code",
   "execution_count": 27,
   "metadata": {
    "collapsed": true
   },
   "outputs": [],
   "source": [
    "import theano\n",
    "theano.config.floatX = 'float32'\n",
    "X_train = X_train.astype(theano.config.floatX)\n",
    "y_train = y_train.astype(theano.config.floatX)"
   ]
  },
  {
   "cell_type": "code",
   "execution_count": 28,
   "metadata": {},
   "outputs": [
    {
     "name": "stderr",
     "output_type": "stream",
     "text": [
      "Using TensorFlow backend.\n"
     ]
    },
    {
     "name": "stdout",
     "output_type": "stream",
     "text": [
      "First 3 labels:  [ 5.  0.  4.]\n"
     ]
    }
   ],
   "source": [
    "from keras.utils import np_utils\n",
    "print('First 3 labels: ', y_train[:3])"
   ]
  },
  {
   "cell_type": "code",
   "execution_count": 29,
   "metadata": {},
   "outputs": [
    {
     "name": "stdout",
     "output_type": "stream",
     "text": [
      "First 3 labels (one-hot):  [[ 0.  0.  0.  0.  0.  1.  0.  0.  0.  0.]\n",
      " [ 1.  0.  0.  0.  0.  0.  0.  0.  0.  0.]\n",
      " [ 0.  0.  0.  0.  1.  0.  0.  0.  0.  0.]]\n"
     ]
    }
   ],
   "source": [
    "# 转换类标为独热码格式。\n",
    "y_train_ohe = np_utils.to_categorical(y_train)\n",
    "print('First 3 labels (one-hot): ', y_train_ohe[:3])"
   ]
  },
  {
   "cell_type": "code",
   "execution_count": 30,
   "metadata": {},
   "outputs": [],
   "source": [
    "# Keras实现神经网络\n",
    "from keras.models import Sequential\n",
    "from keras.layers.core import Dense\n",
    "from keras.optimizers import SGD\n",
    "\n",
    "np.random.seed(1)\n",
    "\n",
    "model = Sequential()\n",
    "# 使用relu\n",
    "model.add(Dense(50, input_dim=X_train.shape[1], \n",
    "               kernel_initializer='uniform', \n",
    "               activation='relu'))\n",
    "\n",
    "model.add(Dense(50, input_dim=50, \n",
    "               kernel_initializer='uniform', \n",
    "               activation='relu'))\n",
    "\n",
    "model.add(Dense(y_train_ohe.shape[1], input_dim=50, \n",
    "               kernel_initializer='uniform', \n",
    "               activation='softmax'))\n",
    "\n",
    "sgd = SGD(lr=0.001, decay=1e-7, momentum=.9)\n",
    "model.compile(loss='categorical_crossentropy', optimizer=sgd, metrics=[\"accuracy\"])"
   ]
  },
  {
   "cell_type": "code",
   "execution_count": 31,
   "metadata": {},
   "outputs": [
    {
     "name": "stdout",
     "output_type": "stream",
     "text": [
      "Train on 54000 samples, validate on 6000 samples\n",
      "Epoch 1/50\n",
      "54000/54000 [==============================] - 1s 18us/step - loss: 0.5605 - acc: 0.8229 - val_loss: 0.2229 - val_acc: 0.9352\n",
      "Epoch 2/50\n",
      "54000/54000 [==============================] - 1s 13us/step - loss: 0.2374 - acc: 0.9282 - val_loss: 0.1710 - val_acc: 0.9503\n",
      "Epoch 3/50\n",
      "54000/54000 [==============================] - 1s 13us/step - loss: 0.1841 - acc: 0.9441 - val_loss: 0.1495 - val_acc: 0.9580\n",
      "Epoch 4/50\n",
      "54000/54000 [==============================] - 1s 13us/step - loss: 0.1541 - acc: 0.9535 - val_loss: 0.1287 - val_acc: 0.9643\n",
      "Epoch 5/50\n",
      "54000/54000 [==============================] - 1s 13us/step - loss: 0.1345 - acc: 0.9597 - val_loss: 0.1229 - val_acc: 0.9662\n",
      "Epoch 6/50\n",
      "54000/54000 [==============================] - 1s 13us/step - loss: 0.1198 - acc: 0.9645 - val_loss: 0.1150 - val_acc: 0.9657\n",
      "Epoch 7/50\n",
      "54000/54000 [==============================] - 1s 13us/step - loss: 0.1076 - acc: 0.9679 - val_loss: 0.1160 - val_acc: 0.9657\n",
      "Epoch 8/50\n",
      "54000/54000 [==============================] - 1s 13us/step - loss: 0.0977 - acc: 0.9708 - val_loss: 0.1046 - val_acc: 0.9713\n",
      "Epoch 9/50\n",
      "54000/54000 [==============================] - 1s 12us/step - loss: 0.0913 - acc: 0.9727 - val_loss: 0.1053 - val_acc: 0.9698\n",
      "Epoch 10/50\n",
      "54000/54000 [==============================] - 1s 13us/step - loss: 0.0849 - acc: 0.9744 - val_loss: 0.1051 - val_acc: 0.9707\n",
      "Epoch 11/50\n",
      "54000/54000 [==============================] - 1s 13us/step - loss: 0.0778 - acc: 0.9769 - val_loss: 0.1075 - val_acc: 0.9708\n",
      "Epoch 12/50\n",
      "54000/54000 [==============================] - 1s 13us/step - loss: 0.0718 - acc: 0.9785 - val_loss: 0.1006 - val_acc: 0.9723\n",
      "Epoch 13/50\n",
      "54000/54000 [==============================] - 1s 12us/step - loss: 0.0674 - acc: 0.9795 - val_loss: 0.1067 - val_acc: 0.9690\n",
      "Epoch 14/50\n",
      "54000/54000 [==============================] - 1s 13us/step - loss: 0.0635 - acc: 0.9802 - val_loss: 0.0954 - val_acc: 0.9723\n",
      "Epoch 15/50\n",
      "54000/54000 [==============================] - 1s 13us/step - loss: 0.0580 - acc: 0.9826 - val_loss: 0.0968 - val_acc: 0.9727\n",
      "Epoch 16/50\n",
      "54000/54000 [==============================] - 1s 12us/step - loss: 0.0553 - acc: 0.9826 - val_loss: 0.1014 - val_acc: 0.9717\n",
      "Epoch 17/50\n",
      "54000/54000 [==============================] - 1s 13us/step - loss: 0.0515 - acc: 0.9848 - val_loss: 0.1003 - val_acc: 0.9725\n",
      "Epoch 18/50\n",
      "54000/54000 [==============================] - 1s 12us/step - loss: 0.0470 - acc: 0.9857 - val_loss: 0.1014 - val_acc: 0.9723\n",
      "Epoch 19/50\n",
      "54000/54000 [==============================] - 1s 13us/step - loss: 0.0445 - acc: 0.9861 - val_loss: 0.1132 - val_acc: 0.9692\n",
      "Epoch 20/50\n",
      "54000/54000 [==============================] - 1s 13us/step - loss: 0.0425 - acc: 0.9870 - val_loss: 0.1000 - val_acc: 0.9725\n",
      "Epoch 21/50\n",
      "54000/54000 [==============================] - 1s 13us/step - loss: 0.0385 - acc: 0.9883 - val_loss: 0.1034 - val_acc: 0.9727\n",
      "Epoch 22/50\n",
      "54000/54000 [==============================] - 1s 13us/step - loss: 0.0353 - acc: 0.9894 - val_loss: 0.1062 - val_acc: 0.9722\n",
      "Epoch 23/50\n",
      "54000/54000 [==============================] - 1s 13us/step - loss: 0.0336 - acc: 0.9903 - val_loss: 0.1051 - val_acc: 0.9727\n",
      "Epoch 24/50\n",
      "54000/54000 [==============================] - 1s 12us/step - loss: 0.0316 - acc: 0.9904 - val_loss: 0.1124 - val_acc: 0.9735\n",
      "Epoch 25/50\n",
      "54000/54000 [==============================] - 1s 12us/step - loss: 0.0291 - acc: 0.9916 - val_loss: 0.1071 - val_acc: 0.9738\n",
      "Epoch 26/50\n",
      "54000/54000 [==============================] - 1s 13us/step - loss: 0.0267 - acc: 0.9921 - val_loss: 0.1090 - val_acc: 0.9735\n",
      "Epoch 27/50\n",
      "54000/54000 [==============================] - 1s 13us/step - loss: 0.0259 - acc: 0.9923 - val_loss: 0.1091 - val_acc: 0.9738\n",
      "Epoch 28/50\n",
      "54000/54000 [==============================] - 1s 13us/step - loss: 0.0231 - acc: 0.9936 - val_loss: 0.1127 - val_acc: 0.9725\n",
      "Epoch 29/50\n",
      "54000/54000 [==============================] - 1s 13us/step - loss: 0.0214 - acc: 0.9937 - val_loss: 0.1186 - val_acc: 0.9728\n",
      "Epoch 30/50\n",
      "54000/54000 [==============================] - 1s 13us/step - loss: 0.0202 - acc: 0.9943 - val_loss: 0.1115 - val_acc: 0.9742\n",
      "Epoch 31/50\n",
      "54000/54000 [==============================] - 1s 13us/step - loss: 0.0197 - acc: 0.9945 - val_loss: 0.1144 - val_acc: 0.9715\n",
      "Epoch 32/50\n",
      "54000/54000 [==============================] - 1s 13us/step - loss: 0.0177 - acc: 0.9951 - val_loss: 0.1207 - val_acc: 0.9710\n",
      "Epoch 33/50\n",
      "54000/54000 [==============================] - 1s 13us/step - loss: 0.0164 - acc: 0.9956 - val_loss: 0.1183 - val_acc: 0.9718\n",
      "Epoch 34/50\n",
      "54000/54000 [==============================] - 1s 13us/step - loss: 0.0146 - acc: 0.9962 - val_loss: 0.1216 - val_acc: 0.9723\n",
      "Epoch 35/50\n",
      "54000/54000 [==============================] - 1s 13us/step - loss: 0.0143 - acc: 0.9962 - val_loss: 0.1226 - val_acc: 0.9715\n",
      "Epoch 36/50\n",
      "54000/54000 [==============================] - 1s 13us/step - loss: 0.0124 - acc: 0.9972 - val_loss: 0.1294 - val_acc: 0.9705\n",
      "Epoch 37/50\n",
      "54000/54000 [==============================] - 1s 13us/step - loss: 0.0116 - acc: 0.9973 - val_loss: 0.1247 - val_acc: 0.9717\n",
      "Epoch 38/50\n",
      "54000/54000 [==============================] - 1s 13us/step - loss: 0.0109 - acc: 0.9975 - val_loss: 0.1230 - val_acc: 0.9723\n",
      "Epoch 39/50\n",
      "54000/54000 [==============================] - 1s 13us/step - loss: 0.0099 - acc: 0.9977 - val_loss: 0.1250 - val_acc: 0.9728\n",
      "Epoch 40/50\n",
      "54000/54000 [==============================] - 1s 13us/step - loss: 0.0080 - acc: 0.9987 - val_loss: 0.1266 - val_acc: 0.9742\n",
      "Epoch 41/50\n",
      "54000/54000 [==============================] - 1s 13us/step - loss: 0.0079 - acc: 0.9986 - val_loss: 0.1252 - val_acc: 0.9737\n",
      "Epoch 42/50\n",
      "54000/54000 [==============================] - 1s 14us/step - loss: 0.0069 - acc: 0.9989 - val_loss: 0.1250 - val_acc: 0.9745\n",
      "Epoch 43/50\n",
      "54000/54000 [==============================] - 1s 14us/step - loss: 0.0063 - acc: 0.9991 - val_loss: 0.1270 - val_acc: 0.9722\n",
      "Epoch 44/50\n",
      "54000/54000 [==============================] - 1s 13us/step - loss: 0.0052 - acc: 0.9995 - val_loss: 0.1326 - val_acc: 0.9717\n",
      "Epoch 45/50\n",
      "54000/54000 [==============================] - 1s 13us/step - loss: 0.0049 - acc: 0.9996 - val_loss: 0.1311 - val_acc: 0.9720\n",
      "Epoch 46/50\n",
      "54000/54000 [==============================] - 1s 14us/step - loss: 0.0045 - acc: 0.9996 - val_loss: 0.1305 - val_acc: 0.9727\n",
      "Epoch 47/50\n",
      "54000/54000 [==============================] - 1s 14us/step - loss: 0.0041 - acc: 0.9998 - val_loss: 0.1305 - val_acc: 0.9722\n",
      "Epoch 48/50\n",
      "54000/54000 [==============================] - 1s 14us/step - loss: 0.0039 - acc: 0.9998 - val_loss: 0.1303 - val_acc: 0.9735\n",
      "Epoch 49/50\n",
      "54000/54000 [==============================] - 1s 14us/step - loss: 0.0035 - acc: 0.9998 - val_loss: 0.1328 - val_acc: 0.9732\n",
      "Epoch 50/50\n",
      "54000/54000 [==============================] - 1s 14us/step - loss: 0.0033 - acc: 0.9998 - val_loss: 0.1352 - val_acc: 0.9745\n"
     ]
    },
    {
     "data": {
      "text/plain": [
       "<keras.callbacks.History at 0x1258627b8>"
      ]
     },
     "execution_count": 31,
     "metadata": {},
     "output_type": "execute_result"
    }
   ],
   "source": [
    "model.fit(X_train,\n",
    "          y_train_ohe,\n",
    "          epochs=50,\n",
    "          batch_size=300,\n",
    "          verbose=1,\n",
    "          validation_split=0.1)"
   ]
  },
  {
   "cell_type": "code",
   "execution_count": 32,
   "metadata": {},
   "outputs": [
    {
     "name": "stdout",
     "output_type": "stream",
     "text": [
      "First 3 predictions:  [5 0 4]\n"
     ]
    }
   ],
   "source": [
    "y_train_pred = model.predict_classes(X_train, verbose=0)\n",
    "print('First 3 predictions: ', y_train_pred[:3])"
   ]
  },
  {
   "cell_type": "code",
   "execution_count": 33,
   "metadata": {},
   "outputs": [
    {
     "name": "stdout",
     "output_type": "stream",
     "text": [
      "Training accuracy: 99.74%\n"
     ]
    }
   ],
   "source": [
    "train_acc = np.sum(y_train==y_train_pred,axis=0) / X_train.shape[0]\n",
    "print('Training accuracy: %.2f%%' % (train_acc * 100))"
   ]
  },
  {
   "cell_type": "code",
   "execution_count": 34,
   "metadata": {},
   "outputs": [
    {
     "name": "stdout",
     "output_type": "stream",
     "text": [
      "Test accuracy: 97.26%\n"
     ]
    }
   ],
   "source": [
    "y_test_pred = model.predict_classes(X_test, verbose=0)\n",
    "test_acc = np.sum(y_test==y_test_pred,axis=0) / X_test.shape[0]\n",
    "print('Test accuracy: %.2f%%'% (test_acc * 100))"
   ]
  }
 ],
 "metadata": {
  "kernelspec": {
   "display_name": "Python 3",
   "language": "python",
   "name": "python3"
  },
  "language_info": {
   "codemirror_mode": {
    "name": "ipython",
    "version": 3
   },
   "file_extension": ".py",
   "mimetype": "text/x-python",
   "name": "python",
   "nbconvert_exporter": "python",
   "pygments_lexer": "ipython3",
   "version": "3.6.0"
  }
 },
 "nbformat": 4,
 "nbformat_minor": 2
}
