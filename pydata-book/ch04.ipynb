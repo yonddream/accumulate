{
 "cells": [
  {
   "cell_type": "markdown",
   "metadata": {},
   "source": [
    "### Numpy的ndarray: 一种多维数组对象\n",
    "### 创建ndarray"
   ]
  },
  {
   "cell_type": "code",
   "execution_count": 1,
   "metadata": {},
   "outputs": [
    {
     "data": {
      "text/plain": [
       "array([ 6. ,  7.5,  8. ,  0. ,  1. ])"
      ]
     },
     "execution_count": 1,
     "metadata": {},
     "output_type": "execute_result"
    }
   ],
   "source": [
    "import numpy as np\n",
    "data1 = [6, 7.5, 8, 0, 1]\n",
    "# 将列表转换成一个一维数组\n",
    "arr1 = np.array(data1)\n",
    "arr1"
   ]
  },
  {
   "cell_type": "code",
   "execution_count": 2,
   "metadata": {},
   "outputs": [
    {
     "data": {
      "text/plain": [
       "array([[1, 2, 3, 4],\n",
       "       [5, 6, 7, 8]])"
      ]
     },
     "execution_count": 2,
     "metadata": {},
     "output_type": "execute_result"
    }
   ],
   "source": [
    "data2 = [[1, 2, 3, 4], [5, 6, 7, 8]]\n",
    "# 转换成二维数组\n",
    "arr2 = np.array(data2)\n",
    "arr2"
   ]
  },
  {
   "cell_type": "code",
   "execution_count": 3,
   "metadata": {},
   "outputs": [
    {
     "data": {
      "text/plain": [
       "2"
      ]
     },
     "execution_count": 3,
     "metadata": {},
     "output_type": "execute_result"
    }
   ],
   "source": [
    "# 显示维度\n",
    "arr2.ndim"
   ]
  },
  {
   "cell_type": "code",
   "execution_count": 4,
   "metadata": {},
   "outputs": [
    {
     "data": {
      "text/plain": [
       "(2, 4)"
      ]
     },
     "execution_count": 4,
     "metadata": {},
     "output_type": "execute_result"
    }
   ],
   "source": [
    "# 数组的维度和长度\n",
    "arr2.shape"
   ]
  },
  {
   "cell_type": "code",
   "execution_count": 5,
   "metadata": {},
   "outputs": [
    {
     "data": {
      "text/plain": [
       "dtype('float64')"
      ]
     },
     "execution_count": 5,
     "metadata": {},
     "output_type": "execute_result"
    }
   ],
   "source": [
    "# 如果没有指定数组的类型，会在创建的时候推断一个最合适的数据类型\n",
    "arr1.dtype"
   ]
  },
  {
   "cell_type": "code",
   "execution_count": 6,
   "metadata": {},
   "outputs": [
    {
     "data": {
      "text/plain": [
       "array([ 0.,  0.,  0.,  0.,  0.,  0.,  0.,  0.,  0.,  0.])"
      ]
     },
     "execution_count": 6,
     "metadata": {},
     "output_type": "execute_result"
    }
   ],
   "source": [
    "# 创建元素都为0的数组\n",
    "np.zeros(10)"
   ]
  },
  {
   "cell_type": "code",
   "execution_count": 7,
   "metadata": {},
   "outputs": [
    {
     "data": {
      "text/plain": [
       "array([[ 0.,  0.,  0.,  0.,  0.,  0.],\n",
       "       [ 0.,  0.,  0.,  0.,  0.,  0.],\n",
       "       [ 0.,  0.,  0.,  0.,  0.,  0.]])"
      ]
     },
     "execution_count": 7,
     "metadata": {},
     "output_type": "execute_result"
    }
   ],
   "source": [
    "np.zeros((3, 6))"
   ]
  },
  {
   "cell_type": "code",
   "execution_count": 8,
   "metadata": {},
   "outputs": [
    {
     "data": {
      "text/plain": [
       "array([[[ -2.68156159e+154,  -4.34436196e-311],\n",
       "        [  2.96439388e-323,   0.00000000e+000],\n",
       "        [  0.00000000e+000,   1.16095484e-028]],\n",
       "\n",
       "       [[  6.97283618e+228,   3.68008723e-110],\n",
       "        [  6.48224638e+170,   3.67145870e+228],\n",
       "        [  1.33873041e+253,   8.34402697e-309]]])"
      ]
     },
     "execution_count": 8,
     "metadata": {},
     "output_type": "execute_result"
    }
   ],
   "source": [
    "# 创建没有任何值的数组，因为Python小数点精确的问题，大部分情况下返回的值不是0，而是一些未初始化的垃圾值\n",
    "np.empty((2, 3, 2))"
   ]
  },
  {
   "cell_type": "code",
   "execution_count": 9,
   "metadata": {},
   "outputs": [
    {
     "data": {
      "text/plain": [
       "array([ 0,  1,  2,  3,  4,  5,  6,  7,  8,  9, 10, 11, 12, 13, 14])"
      ]
     },
     "execution_count": 9,
     "metadata": {},
     "output_type": "execute_result"
    }
   ],
   "source": [
    "# 内置函数range的数组版\n",
    "np.arange(15)"
   ]
  },
  {
   "cell_type": "markdown",
   "metadata": {},
   "source": [
    "### <center>数组创建函数</center >\n",
    "函数 | 说明\n",
    ":---- | :----\n",
    "array | 将输入数据（列表、元祖、数组、或其他序列类型）转换成ndarray。要么推断出dtype，要么显式指定dtype。默认直接复制输入数据\n",
    "asarray | 将输入转换成ndarray，如果输入本身就是ndarray就不进行复制\n",
    "arange | 类似于内置函数range，但是返回的是ndarray\n",
    "ones、ones_like | 根据指定的形状和dtype创建全1的数组。ones_like以另一个数组为参数，并根据其形状和dtype创建全1数组\n",
    "zeros、zeros_like | 类似于ones、ones_like，不过创建的是全0数组\n",
    "empty、empty_like | 创建新数组，只分配内存空间但不填充任何值\n",
    "eye、identity | 创建一个正方N\\*N的单位矩阵（对角线为1，其余为0）"
   ]
  },
  {
   "cell_type": "markdown",
   "metadata": {},
   "source": [
    "### <center>ndarray的数据类型</center >\n",
    "\n",
    "类型 | 类型代码 | 说明\n",
    ":---- | :---- | :----\n",
    "int8、uint8 | i1、u1 | 有符号和无符号的8位（1个字节）整形\n",
    "int16、uint16 | i2、u2 | 有符号和无符号的16位（2个字节）整形\n",
    "int32、uint32 | i4、u4 | 有符号和无符号的32位（4个字节）整形\n",
    "int64、uint64 | i8、u8 | 有符号和无符号的64位（8个字节）整形\n",
    "fooat16 | f2 | 半精度浮点数\n",
    "fooat32 | f4或f | 标准的单精度浮点数。与C的float兼容\n",
    "fooat64 | f8或d | 标准的双精度浮点数。与C的double和Python的float对象兼容\n",
    "fooat128 | f16或g | 扩展精度浮点数\n",
    "complex(64、128、256) | c8、c16、c32 | 分别用两个32、64、128位的浮点数表示的复数\n",
    "bool | ? | 布尔类型\n",
    "object | O | Python对象类型\n",
    "string_ | S | 固定长度的字符串类型（每个字符1个字节） S10表示长度为10的字符串\n",
    "unicode_ | U | 固定长度的unicode类型"
   ]
  },
  {
   "cell_type": "code",
   "execution_count": 10,
   "metadata": {},
   "outputs": [
    {
     "data": {
      "text/plain": [
       "dtype('int64')"
      ]
     },
     "execution_count": 10,
     "metadata": {},
     "output_type": "execute_result"
    }
   ],
   "source": [
    "# 默认推断出来为int64\n",
    "arr = np.array([1, 2, 3, 4, 5])\n",
    "arr.dtype"
   ]
  },
  {
   "cell_type": "code",
   "execution_count": 11,
   "metadata": {},
   "outputs": [
    {
     "data": {
      "text/plain": [
       "dtype('float64')"
      ]
     },
     "execution_count": 11,
     "metadata": {},
     "output_type": "execute_result"
    }
   ],
   "source": [
    "# 显式类型转换为float64\n",
    "float_arr = arr.astype(np.float64)\n",
    "# astype无论如何都会创建一个新的数组（原始数据的一份拷贝），即使新的dtype和老的相同\n",
    "float_arr.dtype"
   ]
  },
  {
   "cell_type": "code",
   "execution_count": 12,
   "metadata": {},
   "outputs": [
    {
     "data": {
      "text/plain": [
       "dtype('float32')"
      ]
     },
     "execution_count": 12,
     "metadata": {},
     "output_type": "execute_result"
    }
   ],
   "source": [
    "# 也可以直接用上面类型代码来进行类型转换\n",
    "float32_arr = arr.astype('f')\n",
    "float32_arr.dtype"
   ]
  },
  {
   "cell_type": "markdown",
   "metadata": {},
   "source": [
    "### 基本的索引和切片"
   ]
  },
  {
   "cell_type": "code",
   "execution_count": 13,
   "metadata": {},
   "outputs": [
    {
     "data": {
      "text/plain": [
       "array([0, 1, 2, 3, 4, 5, 6, 7, 8, 9])"
      ]
     },
     "execution_count": 13,
     "metadata": {},
     "output_type": "execute_result"
    }
   ],
   "source": [
    "arr = np.arange(10)\n",
    "arr"
   ]
  },
  {
   "cell_type": "code",
   "execution_count": 14,
   "metadata": {},
   "outputs": [
    {
     "data": {
      "text/plain": [
       "array([ 0,  1,  2,  3,  4, 12, 12, 12,  8,  9])"
      ]
     },
     "execution_count": 14,
     "metadata": {},
     "output_type": "execute_result"
    }
   ],
   "source": [
    "arr[5:8] = 12\n",
    "arr"
   ]
  },
  {
   "cell_type": "code",
   "execution_count": 15,
   "metadata": {},
   "outputs": [
    {
     "data": {
      "text/plain": [
       "array([   0,    1,    2,    3,    4,   12, 1212,   12,    8,    9])"
      ]
     },
     "execution_count": 15,
     "metadata": {},
     "output_type": "execute_result"
    }
   ],
   "source": [
    "# 和Python的列表有很大的不同，数组切片是原始数组的视图（内存地址），视图上的任何修改都会反映到源数组上\n",
    "# numpy是用来处理大数据的，假如要数据复制来复制去，会引起巨大的性能和内存问题。\n",
    "arr_slice = arr[5:8]\n",
    "arr_slice[1] = 1212\n",
    "arr"
   ]
  },
  {
   "cell_type": "code",
   "execution_count": 16,
   "metadata": {},
   "outputs": [
    {
     "data": {
      "text/plain": [
       "array([   0,    1,    2,    3,    4,   12, 1212,   12,    8,    9])"
      ]
     },
     "execution_count": 16,
     "metadata": {},
     "output_type": "execute_result"
    }
   ],
   "source": [
    "# 加入你想得到切片的一份副本而非视图，必须要显示的进行复制操作\n",
    "arr_copy = arr[5:8].copy()\n",
    "# 这样就不会改变源数组了\n",
    "arr_copy[1] = 12312\n",
    "arr"
   ]
  },
  {
   "cell_type": "code",
   "execution_count": 17,
   "metadata": {},
   "outputs": [
    {
     "data": {
      "text/plain": [
       "array([7, 8, 9])"
      ]
     },
     "execution_count": 17,
     "metadata": {},
     "output_type": "execute_result"
    }
   ],
   "source": [
    "# 2维数组\n",
    "arr2d = np.array([[1, 2, 3], [4, 5, 6], [7, 8, 9]])\n",
    "arr2d[2]"
   ]
  },
  {
   "cell_type": "code",
   "execution_count": 18,
   "metadata": {},
   "outputs": [
    {
     "data": {
      "text/plain": [
       "3"
      ]
     },
     "execution_count": 18,
     "metadata": {},
     "output_type": "execute_result"
    }
   ],
   "source": [
    "# 2种不同的方式取出二维数组中的一个值\n",
    "arr2d[0][2]\n",
    "arr2d[0, 2]"
   ]
  },
  {
   "cell_type": "code",
   "execution_count": 19,
   "metadata": {},
   "outputs": [
    {
     "data": {
      "text/plain": [
       "array([[[ 0,  1,  2],\n",
       "        [ 3,  4,  5]],\n",
       "\n",
       "       [[ 6,  7,  8],\n",
       "        [ 9, 10, 11]]])"
      ]
     },
     "execution_count": 19,
     "metadata": {},
     "output_type": "execute_result"
    }
   ],
   "source": [
    "# 可以使用reshape对数组进行维度转换\n",
    "arr3d = np.arange(12).reshape(2, 2, 3)\n",
    "arr3d"
   ]
  },
  {
   "cell_type": "code",
   "execution_count": 20,
   "metadata": {},
   "outputs": [
    {
     "data": {
      "text/plain": [
       "array([[0, 1, 2],\n",
       "       [3, 4, 5]])"
      ]
     },
     "execution_count": 20,
     "metadata": {},
     "output_type": "execute_result"
    }
   ],
   "source": [
    "# 多维数组中，如果省略后面的索引，则返回一个低一维的数组\n",
    "arr3d[0]"
   ]
  },
  {
   "cell_type": "code",
   "execution_count": 21,
   "metadata": {},
   "outputs": [
    {
     "data": {
      "text/plain": [
       "array([[[12, 12, 12],\n",
       "        [12, 12, 12]],\n",
       "\n",
       "       [[ 6,  7,  8],\n",
       "        [ 9, 10, 11]]])"
      ]
     },
     "execution_count": 21,
     "metadata": {},
     "output_type": "execute_result"
    }
   ],
   "source": [
    "# 对一个维度上的赋值操作，将会扩散到整个选取\n",
    "arr3d[0] = 12\n",
    "arr3d"
   ]
  },
  {
   "cell_type": "code",
   "execution_count": 22,
   "metadata": {},
   "outputs": [
    {
     "data": {
      "text/plain": [
       "array([[2, 3],\n",
       "       [5, 6]])"
      ]
     },
     "execution_count": 22,
     "metadata": {},
     "output_type": "execute_result"
    }
   ],
   "source": [
    "# ndarray的切片比Python的更丰富，可以传入多个切片\n",
    "arr2d[:2, 1:]"
   ]
  },
  {
   "cell_type": "markdown",
   "metadata": {},
   "source": [
    "### 布尔型索引"
   ]
  },
  {
   "cell_type": "code",
   "execution_count": 23,
   "metadata": {},
   "outputs": [
    {
     "data": {
      "text/plain": [
       "array([[ 0.26676317, -1.30033353, -0.95813606, -0.06060034],\n",
       "       [ 0.06037398, -0.32142243,  0.29197158,  0.78355573],\n",
       "       [ 1.343559  ,  0.76501992,  0.23544069, -0.02528031],\n",
       "       [-2.18415176, -1.05479635, -0.32416101, -0.47738921],\n",
       "       [ 0.71900377, -1.22010089, -1.28998416,  0.44843399],\n",
       "       [ 0.90837221,  0.56150574, -0.97834978, -0.65009823],\n",
       "       [ 0.69368179,  0.01847382,  0.46818727, -0.06967074]])"
      ]
     },
     "execution_count": 23,
     "metadata": {},
     "output_type": "execute_result"
    }
   ],
   "source": [
    "names = np.array(['Bob', 'Joe', 'Will', 'Bob', 'Will', 'Joe', 'Joe'])\n",
    "# 生成随机2维数组\n",
    "data = np.random.randn(7, 4)\n",
    "data"
   ]
  },
  {
   "cell_type": "code",
   "execution_count": 24,
   "metadata": {},
   "outputs": [
    {
     "data": {
      "text/plain": [
       "array([ True, False, False,  True, False, False, False], dtype=bool)"
      ]
     },
     "execution_count": 24,
     "metadata": {},
     "output_type": "execute_result"
    }
   ],
   "source": [
    "# 可以直接进行运算，生成一个布尔型的数组\n",
    "names == 'Bob'"
   ]
  },
  {
   "cell_type": "code",
   "execution_count": 25,
   "metadata": {},
   "outputs": [
    {
     "data": {
      "text/plain": [
       "array([[ 0.26676317, -1.30033353, -0.95813606, -0.06060034],\n",
       "       [-2.18415176, -1.05479635, -0.32416101, -0.47738921]])"
      ]
     },
     "execution_count": 25,
     "metadata": {},
     "output_type": "execute_result"
    }
   ],
   "source": [
    "# 可以直接用作数组的索引，布尔型的长度必须和轴长度一致\n",
    "data[names=='Bob']"
   ]
  },
  {
   "cell_type": "code",
   "execution_count": 26,
   "metadata": {},
   "outputs": [
    {
     "data": {
      "text/plain": [
       "array([[-0.95813606, -0.06060034],\n",
       "       [-0.32416101, -0.47738921]])"
      ]
     },
     "execution_count": 26,
     "metadata": {},
     "output_type": "execute_result"
    }
   ],
   "source": [
    "# 还可以和切片混合使用\n",
    "data[names=='Bob', 2:]"
   ]
  },
  {
   "cell_type": "code",
   "execution_count": 27,
   "metadata": {},
   "outputs": [
    {
     "data": {
      "text/plain": [
       "array([[ 0.06037398, -0.32142243,  0.29197158,  0.78355573],\n",
       "       [ 1.343559  ,  0.76501992,  0.23544069, -0.02528031],\n",
       "       [ 0.71900377, -1.22010089, -1.28998416,  0.44843399],\n",
       "       [ 0.90837221,  0.56150574, -0.97834978, -0.65009823],\n",
       "       [ 0.69368179,  0.01847382,  0.46818727, -0.06967074]])"
      ]
     },
     "execution_count": 27,
     "metadata": {},
     "output_type": "execute_result"
    }
   ],
   "source": [
    "# 还可以进行不等于判断，下面2种方式一样\n",
    "data[names!='Bob']\n",
    "data[~(names=='Bob')]"
   ]
  },
  {
   "cell_type": "code",
   "execution_count": 28,
   "metadata": {},
   "outputs": [
    {
     "data": {
      "text/plain": [
       "array([[ 0.26676317, -1.30033353, -0.95813606, -0.06060034],\n",
       "       [ 1.343559  ,  0.76501992,  0.23544069, -0.02528031],\n",
       "       [-2.18415176, -1.05479635, -0.32416101, -0.47738921],\n",
       "       [ 0.71900377, -1.22010089, -1.28998416,  0.44843399]])"
      ]
     },
     "execution_count": 28,
     "metadata": {},
     "output_type": "execute_result"
    }
   ],
   "source": [
    "# 还可以用&、|之类的组合多个布尔条件\n",
    "data[(names=='Bob') | (names=='Will')]"
   ]
  },
  {
   "cell_type": "markdown",
   "metadata": {},
   "source": [
    "### 花式索引\n",
    "花式索引和切片不同，它总是将数据复制到新的数组中"
   ]
  },
  {
   "cell_type": "code",
   "execution_count": 29,
   "metadata": {},
   "outputs": [
    {
     "data": {
      "text/plain": [
       "array([[ 4.,  4.,  4.,  4.],\n",
       "       [ 3.,  3.,  3.,  3.],\n",
       "       [ 0.,  0.,  0.,  0.],\n",
       "       [ 6.,  6.,  6.,  6.]])"
      ]
     },
     "execution_count": 29,
     "metadata": {},
     "output_type": "execute_result"
    }
   ],
   "source": [
    "arr = np.empty((8, 4))\n",
    "for i in range(8):\n",
    "    arr[i] = i\n",
    "# 按照特定顺序选取子集，传入负数就是从末尾开始选取行\n",
    "arr[[4, 3, 0, 6]]"
   ]
  },
  {
   "cell_type": "code",
   "execution_count": 30,
   "metadata": {},
   "outputs": [
    {
     "data": {
      "text/plain": [
       "array([ 4, 23, 29, 10])"
      ]
     },
     "execution_count": 30,
     "metadata": {},
     "output_type": "execute_result"
    }
   ],
   "source": [
    "arr = np.arange(32).reshape((8, 4))\n",
    "# 将会选出(1,0),(5,3),(7,1),(2,2)的数据，可能和我们想要的结果不一样，我们是想要选取列做自定义排序\n",
    "arr[[1, 5, 7, 2], [0, 3, 1, 2]]"
   ]
  },
  {
   "cell_type": "code",
   "execution_count": 31,
   "metadata": {},
   "outputs": [
    {
     "data": {
      "text/plain": [
       "array([[ 4,  7,  5,  6],\n",
       "       [20, 23, 21, 22],\n",
       "       [28, 31, 29, 30],\n",
       "       [ 8, 11,  9, 10]])"
      ]
     },
     "execution_count": 31,
     "metadata": {},
     "output_type": "execute_result"
    }
   ],
   "source": [
    "# 下面这2种方式就是选取行和选取列做自定义排序\n",
    "arr[[1, 5, 7, 2]][:, [0, 3, 1, 2]]\n",
    "# 使用ix_，它可以将两个一维数组转换成一个用于选取方形区域的索引器\n",
    "arr[np.ix_([1, 5, 7, 2], [0, 3, 1, 2])]"
   ]
  },
  {
   "cell_type": "markdown",
   "metadata": {},
   "source": [
    "### 数组转置和轴对换"
   ]
  },
  {
   "cell_type": "code",
   "execution_count": 32,
   "metadata": {},
   "outputs": [
    {
     "data": {
      "text/plain": [
       "array([[ 4.04685333, -0.92696342,  3.41297947],\n",
       "       [-0.92696342,  2.31671634,  1.0374817 ],\n",
       "       [ 3.41297947,  1.0374817 ,  5.99547982]])"
      ]
     },
     "execution_count": 32,
     "metadata": {},
     "output_type": "execute_result"
    }
   ],
   "source": [
    "arr = np.random.randn(6, 3)\n",
    "# 可以利用dot来计算矩阵内积 X.TX\n",
    "np.dot(arr.T, arr)"
   ]
  },
  {
   "cell_type": "code",
   "execution_count": 33,
   "metadata": {},
   "outputs": [
    {
     "data": {
      "text/plain": [
       "array([[[ 0,  1,  2,  3],\n",
       "        [ 8,  9, 10, 11]],\n",
       "\n",
       "       [[ 4,  5,  6,  7],\n",
       "        [12, 13, 14, 15]]])"
      ]
     },
     "execution_count": 33,
     "metadata": {},
     "output_type": "execute_result"
    }
   ],
   "source": [
    "# transpose需要得到一个由轴编号组成的元祖才能对轴进行转置\n",
    "arr = np.arange(16).reshape(2, 2, 4)\n",
    "arr.transpose((1, 0, 2))"
   ]
  },
  {
   "cell_type": "markdown",
   "metadata": {},
   "source": [
    "#### transpose理解\n",
    "arr.transpose((1,0,2))的1,0,2三个数分别代表shape()的三个数的顺序，初始的shape是（2,2,4），也就是2维的2 x 4矩阵，索引分别是shape的[0],[1],[2]，arr.transpose((1,0,2))之后，我们的索引就变成了shape[1],[0],[2],对应shape值是shape(2,2,4)，所以矩阵形状不变。  \n",
    "与此同时，我们矩阵的索引也发生了类似变化，如arr中的4，索引是arr[0,1,0],arr中的5是arr[0,1,1]，转换后，4的位置应该是在[1,0,0]，5的位置变成[1,0,1]，同理8的索引从[1,0,0]变成[0,1,0]。"
   ]
  },
  {
   "cell_type": "code",
   "execution_count": 34,
   "metadata": {},
   "outputs": [
    {
     "data": {
      "text/plain": [
       "array([[[ 0,  1,  2,  3],\n",
       "        [ 8,  9, 10, 11]],\n",
       "\n",
       "       [[ 4,  5,  6,  7],\n",
       "        [12, 13, 14, 15]]])"
      ]
     },
     "execution_count": 34,
     "metadata": {},
     "output_type": "execute_result"
    }
   ],
   "source": [
    "# swapaxes交换两个轴方向上的数据。当交换0，1的时候就和上面的结果一样了\n",
    "arr.swapaxes(1, 0)"
   ]
  },
  {
   "cell_type": "markdown",
   "metadata": {},
   "source": [
    "### 通用函数：快速的元素级数组函数\n",
    "### <center>一元ufunc</center>\n",
    "函数 | 说明\n",
    ":---- | :----\n",
    "abs、fabs | 计算整数、浮点数或复数的绝对值。对于非复数值，可以使用更快的fabs\n",
    "sqrt | 计算各元素的平方根。相当于arr \\*\\* 0.5\n",
    "square | 计算各元素的平方。相当于arr \\*\\* 2\n",
    "ext | 计算各元素的指数\n",
    "log、log10、log2、log1p | 分别为自然对数（底数e）、底数为10的log、底数为2的log、log(1+x)\n",
    "sign | 计算各元素的正负号： 1（正）、0（零）、-1（负）\n",
    "ceil | 计算各元素的ceiling值，即大于等于该值的最小整数\n",
    "floor | 计算各元素的floor值，即小于等于该值的最大整数\n",
    "rint | 将各元素四舍五入到最接近的整数，保留dtype\n",
    "modf | 将数组的小数和整数部分以两个独立数组的形式返回\n",
    "isnan | 返回一个表示哪些是NaN的布尔型数组\n",
    "isfinite,isinf | 返回一个表示哪些是有穷的（非inf、非NaN）或哪些是无穷的布尔型数组\n",
    "cos、cosh、sin、sinh、tan、tanh | 普通型和双曲型三角函数\n",
    "arccos、arccosh、arcsin、arcsinh、arctan、arctanh | 反三角函数\n",
    "logical_not | 计算各元素not x的真值。相当于~arr\n",
    "\n",
    "### <center>二元ufunc</center>\n",
    "函数 | 说明\n",
    ":---- | :----\n",
    "add | 数组相加\n",
    "subtract | 数组一减去数组二\n",
    "multiply | 数组相乘\n",
    "divide、floor_divide | 除法或者向下圆整除法（丢弃余数）\n",
    "power | 数组A,B中对应元素的幂\n",
    "maximum,fmax | 元素级的最大值计算。fmax忽略NaN\n",
    "minimum,fmin | 元素级的最小值计算。fmin忽略NaN\n",
    "mod | 元素级求模（除法的余数）\n",
    "copysign | 将第二个数组中的值的符号复制给第一个数组中的值\n",
    "greater、greater_equal、less、less_equal、equal、not_equal | 执行元素级的比较运算相当于 >, >=, <, <=, ==, !=\n",
    "logical_and、logiacl_or、logical_xor | 相当于 &、\\、^\n"
   ]
  },
  {
   "cell_type": "code",
   "execution_count": null,
   "metadata": {
    "collapsed": true
   },
   "outputs": [],
   "source": []
  }
 ],
 "metadata": {
  "kernelspec": {
   "display_name": "Python 3",
   "language": "python",
   "name": "python3"
  },
  "language_info": {
   "codemirror_mode": {
    "name": "ipython",
    "version": 3
   },
   "file_extension": ".py",
   "mimetype": "text/x-python",
   "name": "python",
   "nbconvert_exporter": "python",
   "pygments_lexer": "ipython3",
   "version": "3.6.0"
  }
 },
 "nbformat": 4,
 "nbformat_minor": 2
}
