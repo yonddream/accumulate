{
 "cells": [
  {
   "cell_type": "markdown",
   "metadata": {},
   "source": [
    "### Tab健自动完成\n",
    "shell中输入表达式，只需要按下tab键，当前命名空间中任何与输入的字符串想匹配的变量（对象、函数等）就会被找出来。   \n",
    "tab自动完成还可以用于函数关键字参数，文件路径匹配。"
   ]
  },
  {
   "cell_type": "markdown",
   "metadata": {},
   "source": [
    "### 内省\n",
    "在变量前面或后面加上问号(?)可以将有关该对象的一些通用信息显示出来。如果是函数或实例方法，有docstring也会显示出来。  \n",
    "加上??会显示函数的源代码。还可以配合使用通配符(*)显示该通配符表达式相匹配的所有名称。  "
   ]
  },
  {
   "cell_type": "code",
   "execution_count": 1,
   "metadata": {
    "collapsed": true
   },
   "outputs": [],
   "source": [
    "import numpy as np\n",
    "np.*load*?"
   ]
  },
  {
   "cell_type": "markdown",
   "metadata": {},
   "source": [
    "### %run命令\n",
    "在shell中你可以直接使用 `%run script_test.py`，执行后该文件中的所有变量可以在shell中访问了。如果需要访问shell中的变量需要使用命令`%run -i`     \n",
    "当run中的代码或者shell中的代码执行过长时，可以使用Ctrl-C中断正在执行的代码。"
   ]
  },
  {
   "cell_type": "code",
   "execution_count": 2,
   "metadata": {
    "collapsed": true
   },
   "outputs": [],
   "source": [
    "%run ch03/script_test.py"
   ]
  },
  {
   "cell_type": "markdown",
   "metadata": {},
   "source": [
    "### 魔术命令\n",
    "以%开头的为魔术命令，在shell中有一些特殊的作用，魔术命令默认也可以不使用%，只需要没有定义其同名的变量即可。可以使用%automagic打开或关闭。  \n",
    "###### 下面是一些常用的魔术命令\n",
    "\n",
    "<table align = left>\n",
    "  <tr>\n",
    "    <th>命令</th>\n",
    "    <th>说明</th>\n",
    "  </tr>\n",
    "  <tr>\n",
    "    <td> %quickref </td>\n",
    "    <td> 显示Ipython的快速参考 </td>\n",
    "  </tr>\n",
    "  <tr>\n",
    "    <td> %magic </td>\n",
    "    <td> 显示所有魔术命令的详细文档 </td>\n",
    "  </tr>\n",
    "  <tr>\n",
    "    <td> %debug </td>\n",
    "    <td> 从最新的异常追踪的底部进入交互式调试器 </td>\n",
    "  </tr>\n",
    "  <tr>\n",
    "    <td> %hist </td>\n",
    "    <td> 打印命令的输入历史 </td>\n",
    "  </tr>\n",
    "  <tr>\n",
    "    <td> %time *statement* </td>\n",
    "    <td> 报告statement的执行时间 </td>\n",
    "  </tr>\n",
    "  <tr>\n",
    "    <td> %timeit *statement* </td>\n",
    "    <td> 多次执行statement计算平均时间 </td>\n",
    "  </tr>\n",
    "  <tr>\n",
    "    <td> %who who_ls whos </td>\n",
    "    <td> 显示命名空间中定义的变量，信息级别/冗余度可变 </td>\n",
    "  </tr>\n",
    "  <tr>\n",
    "    <td> %xdel *variable* </td>\n",
    "    <td> 删除variable，并尝试清除shell上的一切引用 </td>\n",
    "  </tr>\n",
    "  <tr>\n",
    "    <td> %logstart </td>\n",
    "    <td> 记录整个控制台会话日志，相关的还有logoff、logon、logstate、logstop </td>\n",
    "  </tr>\n",
    "</table>"
   ]
  },
  {
   "cell_type": "code",
   "execution_count": 3,
   "metadata": {
    "collapsed": true
   },
   "outputs": [],
   "source": [
    "%magic "
   ]
  },
  {
   "cell_type": "markdown",
   "metadata": {},
   "source": [
    "### 输入和输出变量\n",
    "Ipython会将输入和输出的引用保存在特殊变量中。最近的2个变量分别保存在_和__中。  \n",
    "输入的文本保存在_iX的变量中，其中X为输入行的行号。_X为输出的文本。可以配合exec使用`exec _iX`重新执行。"
   ]
  },
  {
   "cell_type": "code",
   "execution_count": 4,
   "metadata": {
    "collapsed": true
   },
   "outputs": [],
   "source": [
    "foo = \"bar\""
   ]
  },
  {
   "cell_type": "code",
   "execution_count": 5,
   "metadata": {},
   "outputs": [
    {
     "data": {
      "text/plain": [
       "'bar'"
      ]
     },
     "execution_count": 5,
     "metadata": {},
     "output_type": "execute_result"
    }
   ],
   "source": [
    "foo"
   ]
  },
  {
   "cell_type": "code",
   "execution_count": 6,
   "metadata": {},
   "outputs": [
    {
     "data": {
      "text/plain": [
       "'foo'"
      ]
     },
     "execution_count": 6,
     "metadata": {},
     "output_type": "execute_result"
    }
   ],
   "source": [
    "_i5"
   ]
  },
  {
   "cell_type": "code",
   "execution_count": 7,
   "metadata": {},
   "outputs": [
    {
     "data": {
      "text/plain": [
       "'bar'"
      ]
     },
     "execution_count": 7,
     "metadata": {},
     "output_type": "execute_result"
    }
   ],
   "source": [
    "_5"
   ]
  },
  {
   "cell_type": "markdown",
   "metadata": {},
   "source": [
    "### 与操作系统交互\n",
    "<table align = left>\n",
    "  <tr>\n",
    "    <th>命令</th>\n",
    "    <th>说明</th>\n",
    "  </tr>\n",
    "  <tr>\n",
    "    <td> !sh </td>\n",
    "    <td> 在shell中执行bash </td>\n",
    "  </tr>\n",
    "  <tr>\n",
    "    <td> output = !sh args </td>\n",
    "    <td> 执行sh，并将stdout存放到output中 </td>\n",
    "  </tr>\n",
    "  <tr>\n",
    "    <td> %alias *alias_name sh* </td>\n",
    "    <td> 定义别名 </td>\n",
    "  </tr>\n",
    "  <tr>\n",
    "    <td> %cd *directory* </td>\n",
    "    <td> 将系统工作目录更改为directory </td>\n",
    "  </tr>\n",
    "  <tr>\n",
    "    <td> %pwd </td>\n",
    "    <td> 返回系统的当前工作目录 </td>\n",
    "  </tr>\n",
    "  <tr>\n",
    "    <td> %pushd *directory* </td>\n",
    "    <td> 将当前目录入栈，并转向目标目录 </td>\n",
    "  </tr>\n",
    "  <tr>\n",
    "    <td> %popd </td>\n",
    "    <td> 弹出栈顶目录，并转向该目录 </td>\n",
    "  </tr>\n",
    "  <tr>\n",
    "    <td> %dirs </td>\n",
    "    <td> 返回一个含有当前目录栈的列表 </td>\n",
    "  </tr>\n",
    "  <tr>\n",
    "    <td> %dhist </td>\n",
    "    <td> 打印目录访问历史 </td>\n",
    "  </tr>\n",
    "  <tr>\n",
    "    <td> %env </td>\n",
    "    <td> 以dict形式返回系统环境变量 </td>\n",
    "  </tr>\n",
    "  <tr>\n",
    "    <td> %bookmark </td>\n",
    "    <td> 使用Ipython的目录书签系统，可以将alias持久化 </td>\n",
    "  </tr>\n",
    "</table>"
   ]
  },
  {
   "cell_type": "code",
   "execution_count": 8,
   "metadata": {},
   "outputs": [
    {
     "data": {
      "text/plain": [
       "\"'ifconfig' 不是内部或外部命令，也不是可运行的程序\""
      ]
     },
     "execution_count": 8,
     "metadata": {},
     "output_type": "execute_result"
    }
   ],
   "source": [
    "# 执行系统命令，结果返回给Python变量\n",
    "ip_info = !ifconfig | grep \"inet\"\n",
    "ip_info[0].strip()"
   ]
  },
  {
   "cell_type": "code",
   "execution_count": 9,
   "metadata": {},
   "outputs": [
    {
     "name": "stderr",
     "output_type": "stream",
     "text": [
      "'ls' 不是内部或外部命令，也不是可运行的程序\n",
      "或批处理文件。\n"
     ]
    }
   ],
   "source": [
    "# 可以使用Python变量来执行系统命令\n",
    "foo = 'ch03*'\n",
    "!ls $foo"
   ]
  },
  {
   "cell_type": "code",
   "execution_count": 10,
   "metadata": {
    "collapsed": true
   },
   "outputs": [],
   "source": [
    "# 设置别名\n",
    "%alias ll ls -l"
   ]
  },
  {
   "cell_type": "code",
   "execution_count": 11,
   "metadata": {},
   "outputs": [
    {
     "name": "stderr",
     "output_type": "stream",
     "text": [
      "'ls' 不是内部或外部命令，也不是可运行的程序\n",
      "或批处理文件。\n"
     ]
    }
   ],
   "source": [
    "ll /usr"
   ]
  },
  {
   "cell_type": "code",
   "execution_count": 12,
   "metadata": {
    "collapsed": true
   },
   "outputs": [],
   "source": [
    "# 执行多条命令\n",
    "%alias test_alias (cd ch03; ls; cd ..)"
   ]
  },
  {
   "cell_type": "code",
   "execution_count": 13,
   "metadata": {},
   "outputs": [
    {
     "name": "stderr",
     "output_type": "stream",
     "text": [
      "系统找不到指定的路径。\n"
     ]
    }
   ],
   "source": [
    "test_alias"
   ]
  },
  {
   "cell_type": "code",
   "execution_count": 14,
   "metadata": {
    "collapsed": true
   },
   "outputs": [],
   "source": [
    "# ipython的目录书签系统，和alias的区别是它会自动持久化，如果有相同的目录可以使用-b覆盖\n",
    "%bookmark db /usr/local/Cellar/python3/"
   ]
  },
  {
   "cell_type": "code",
   "execution_count": 15,
   "metadata": {
    "collapsed": true
   },
   "outputs": [],
   "source": [
    "now_path = %pwd"
   ]
  },
  {
   "cell_type": "code",
   "execution_count": 16,
   "metadata": {},
   "outputs": [
    {
     "name": "stdout",
     "output_type": "stream",
     "text": [
      "(bookmark:db) -> /usr/local/Cellar/python3/\n",
      "[WinError 3] 系统找不到指定的路径。: '/usr/local/Cellar/python3/'\n",
      "E:\\project\\git\\accumulate\\pydata-book\n"
     ]
    }
   ],
   "source": [
    "cd db"
   ]
  },
  {
   "cell_type": "code",
   "execution_count": 17,
   "metadata": {},
   "outputs": [
    {
     "name": "stdout",
     "output_type": "stream",
     "text": [
      "E:\\project\\git\\accumulate\\pydata-book\n"
     ]
    }
   ],
   "source": [
    "cd $now_path"
   ]
  },
  {
   "cell_type": "code",
   "execution_count": null,
   "metadata": {},
   "outputs": [
    {
     "name": "stdout",
     "output_type": "stream",
     "text": [
      "Automatic pdb calling has been turned ON\n"
     ]
    }
   ],
   "source": [
    "pdb"
   ]
  },
  {
   "cell_type": "code",
   "execution_count": null,
   "metadata": {
    "scrolled": true
   },
   "outputs": [
    {
     "ename": "AssertionError",
     "evalue": "",
     "output_type": "error",
     "traceback": [
      "\u001b[1;31m---------------------------------------------------------------------------\u001b[0m",
      "\u001b[1;31mAssertionError\u001b[0m                            Traceback (most recent call last)",
      "\u001b[1;32mE:\\project\\git\\accumulate\\pydata-book\\ch03\\ipython_bug.py\u001b[0m in \u001b[0;36m<module>\u001b[1;34m()\u001b[0m\n\u001b[0;32m     13\u001b[0m     \u001b[0mthrows_an_exception\u001b[0m\u001b[1;33m(\u001b[0m\u001b[1;33m)\u001b[0m\u001b[1;33m\u001b[0m\u001b[0m\n\u001b[0;32m     14\u001b[0m \u001b[1;33m\u001b[0m\u001b[0m\n\u001b[1;32m---> 15\u001b[1;33m \u001b[0mcalling_things\u001b[0m\u001b[1;33m(\u001b[0m\u001b[1;33m)\u001b[0m\u001b[1;33m\u001b[0m\u001b[0m\n\u001b[0m",
      "\u001b[1;32mE:\\project\\git\\accumulate\\pydata-book\\ch03\\ipython_bug.py\u001b[0m in \u001b[0;36mcalling_things\u001b[1;34m()\u001b[0m\n\u001b[0;32m     11\u001b[0m \u001b[1;32mdef\u001b[0m \u001b[0mcalling_things\u001b[0m\u001b[1;33m(\u001b[0m\u001b[1;33m)\u001b[0m\u001b[1;33m:\u001b[0m\u001b[1;33m\u001b[0m\u001b[0m\n\u001b[0;32m     12\u001b[0m     \u001b[0mworks_fine\u001b[0m\u001b[1;33m(\u001b[0m\u001b[1;33m)\u001b[0m\u001b[1;33m\u001b[0m\u001b[0m\n\u001b[1;32m---> 13\u001b[1;33m     \u001b[0mthrows_an_exception\u001b[0m\u001b[1;33m(\u001b[0m\u001b[1;33m)\u001b[0m\u001b[1;33m\u001b[0m\u001b[0m\n\u001b[0m\u001b[0;32m     14\u001b[0m \u001b[1;33m\u001b[0m\u001b[0m\n\u001b[0;32m     15\u001b[0m \u001b[0mcalling_things\u001b[0m\u001b[1;33m(\u001b[0m\u001b[1;33m)\u001b[0m\u001b[1;33m\u001b[0m\u001b[0m\n",
      "\u001b[1;32mE:\\project\\git\\accumulate\\pydata-book\\ch03\\ipython_bug.py\u001b[0m in \u001b[0;36mthrows_an_exception\u001b[1;34m()\u001b[0m\n\u001b[0;32m      7\u001b[0m     \u001b[0ma\u001b[0m \u001b[1;33m=\u001b[0m \u001b[1;36m5\u001b[0m\u001b[1;33m\u001b[0m\u001b[0m\n\u001b[0;32m      8\u001b[0m     \u001b[0mb\u001b[0m \u001b[1;33m=\u001b[0m \u001b[1;36m6\u001b[0m\u001b[1;33m\u001b[0m\u001b[0m\n\u001b[1;32m----> 9\u001b[1;33m     \u001b[1;32massert\u001b[0m\u001b[1;33m(\u001b[0m\u001b[0ma\u001b[0m \u001b[1;33m+\u001b[0m \u001b[0mb\u001b[0m \u001b[1;33m==\u001b[0m \u001b[1;36m10\u001b[0m\u001b[1;33m)\u001b[0m\u001b[1;33m\u001b[0m\u001b[0m\n\u001b[0m\u001b[0;32m     10\u001b[0m \u001b[1;33m\u001b[0m\u001b[0m\n\u001b[0;32m     11\u001b[0m \u001b[1;32mdef\u001b[0m \u001b[0mcalling_things\u001b[0m\u001b[1;33m(\u001b[0m\u001b[1;33m)\u001b[0m\u001b[1;33m:\u001b[0m\u001b[1;33m\u001b[0m\u001b[0m\n",
      "\u001b[1;31mAssertionError\u001b[0m: "
     ]
    },
    {
     "name": "stdout",
     "output_type": "stream",
     "text": [
      "> \u001b[1;32me:\\project\\git\\accumulate\\pydata-book\\ch03\\ipython_bug.py\u001b[0m(9)\u001b[0;36mthrows_an_exception\u001b[1;34m()\u001b[0m\n",
      "\u001b[1;32m      7 \u001b[1;33m    \u001b[0ma\u001b[0m \u001b[1;33m=\u001b[0m \u001b[1;36m5\u001b[0m\u001b[1;33m\u001b[0m\u001b[0m\n",
      "\u001b[0m\u001b[1;32m      8 \u001b[1;33m    \u001b[0mb\u001b[0m \u001b[1;33m=\u001b[0m \u001b[1;36m6\u001b[0m\u001b[1;33m\u001b[0m\u001b[0m\n",
      "\u001b[0m\u001b[1;32m----> 9 \u001b[1;33m    \u001b[1;32massert\u001b[0m\u001b[1;33m(\u001b[0m\u001b[0ma\u001b[0m \u001b[1;33m+\u001b[0m \u001b[0mb\u001b[0m \u001b[1;33m==\u001b[0m \u001b[1;36m10\u001b[0m\u001b[1;33m)\u001b[0m\u001b[1;33m\u001b[0m\u001b[0m\n",
      "\u001b[0m\u001b[1;32m     10 \u001b[1;33m\u001b[1;33m\u001b[0m\u001b[0m\n",
      "\u001b[0m\u001b[1;32m     11 \u001b[1;33m\u001b[1;32mdef\u001b[0m \u001b[0mcalling_things\u001b[0m\u001b[1;33m(\u001b[0m\u001b[1;33m)\u001b[0m\u001b[1;33m:\u001b[0m\u001b[1;33m\u001b[0m\u001b[0m\n",
      "\u001b[0m\n",
      "ipdb> h\n",
      "\n",
      "Documented commands (type help <topic>):\n",
      "========================================\n",
      "EOF    c          d        h         next    pp       retval  u          whatis\n",
      "a      cl         debug    help      p       psource  run     unalias    where \n",
      "alias  clear      disable  ignore    pdef    q        rv      undisplay\n",
      "args   commands   display  interact  pdoc    quit     s       unt      \n",
      "b      condition  down     j         pfile   r        source  until    \n",
      "break  cont       enable   jump      pinfo   restart  step    up       \n",
      "bt     continue   exit     n         pinfo2  return   tbreak  w        \n",
      "\n",
      "Miscellaneous help topics:\n",
      "==========================\n",
      "exec  pdb\n",
      "\n",
      "Undocumented commands:\n",
      "======================\n",
      "l  list  ll  longlist\n",
      "\n"
     ]
    }
   ],
   "source": [
    "# pdb用法\n",
    "%run ch03/ipython_bug.py"
   ]
  },
  {
   "cell_type": "code",
   "execution_count": null,
   "metadata": {
    "collapsed": true
   },
   "outputs": [],
   "source": [
    "# pdb的一些其他使用方式\n",
    "# 可以将set_trace()方法代码中的任何希望停下来的地方，可以查看代码的情况\n",
    "def set_trace():\n",
    "    from IPython.core.debugger import Pdb\n",
    "    Pdb(color_scheme='linux').set_trace(sys._getframe().f._back)"
   ]
  },
  {
   "cell_type": "code",
   "execution_count": null,
   "metadata": {
    "collapsed": true
   },
   "outputs": [],
   "source": [
    "# 可以直接执行函数然后进入调试模式\n",
    "def debug(f, *args, **kwargs):\n",
    "    from IPython.core.debugger import Pdb\n",
    "    Pdb(color_scheme='linux')\n",
    "    return pdb.runcall(f, *args, **kwargs)\n",
    "\n",
    "def f(x, y, z=1):\n",
    "    tmp = x + y\n",
    "    return tmp / z\n",
    "\n",
    "debug(f, 1, 2, z=3)"
   ]
  },
  {
   "cell_type": "code",
   "execution_count": null,
   "metadata": {
    "collapsed": true
   },
   "outputs": [],
   "source": [
    "# 可以使用run -d执行脚本，直接进入调试模式，-b加行号可以设置断点\n",
    "%run -d -b2 ch03/ipython_bug.py"
   ]
  },
  {
   "cell_type": "markdown",
   "metadata": {},
   "source": [
    "### 测试代码的执行时间： %time和%timeit"
   ]
  },
  {
   "cell_type": "code",
   "execution_count": null,
   "metadata": {
    "collapsed": true
   },
   "outputs": [],
   "source": [
    "strings = ['foo', 'foobar', 'baz', 'qux', 'python', 'Guido Van Rossum'] * 100000\n",
    "method1 = [x for x in strings if x.startswith('foo')]\n",
    "method2 = [x for x in strings if x[:3] == 'foo']"
   ]
  },
  {
   "cell_type": "code",
   "execution_count": null,
   "metadata": {
    "collapsed": true
   },
   "outputs": [],
   "source": [
    "# time可以得到函数执行时间\n",
    "%time method1 = [x for x in strings if x.startswith('foo')]\n",
    "%time method2 = [x for x in strings if x[:3] == 'foo']"
   ]
  },
  {
   "cell_type": "code",
   "execution_count": null,
   "metadata": {
    "collapsed": true
   },
   "outputs": [],
   "source": [
    "# timeit会执行多次然后得到平均执行时间\n",
    "%timeit [x for x in strings if x.startswith('foo')]"
   ]
  },
  {
   "cell_type": "markdown",
   "metadata": {},
   "source": [
    "### 基本性能分析：%prun和%run -p"
   ]
  },
  {
   "cell_type": "code",
   "execution_count": null,
   "metadata": {
    "collapsed": true
   },
   "outputs": [],
   "source": [
    "import numpy as np\n",
    "from numpy.linalg import eigvals\n",
    "def run_experiment(niter=100):\n",
    "    K = 100\n",
    "    results = []\n",
    "    for _ in range(niter):\n",
    "        mat = np.random.randn(K, K)\n",
    "        max_eigenvalue = np.abs(eigvals(mat)).max()\n",
    "        results.append(max_eigenvalue)\n",
    "    return results\n",
    "some_results = run_experiment()\n",
    "print('Largest one we saw: %s' % np.max(some_results))"
   ]
  },
  {
   "cell_type": "code",
   "execution_count": null,
   "metadata": {
    "collapsed": true
   },
   "outputs": [],
   "source": [
    "# 显示耗时最多的前7行\n",
    "%prun -l 7 -s cumulative run_experiment()\n",
    "# run一样能达到同样的效果，但是是执行的文件\n",
    "%run -p -s cumulative run_experiment.py"
   ]
  }
 ],
 "metadata": {
  "kernelspec": {
   "display_name": "Python 3",
   "language": "python",
   "name": "python3"
  },
  "language_info": {
   "codemirror_mode": {
    "name": "ipython",
    "version": 3
   },
   "file_extension": ".py",
   "mimetype": "text/x-python",
   "name": "python",
   "nbconvert_exporter": "python",
   "pygments_lexer": "ipython3",
   "version": "3.6.1"
  }
 },
 "nbformat": 4,
 "nbformat_minor": 2
}
