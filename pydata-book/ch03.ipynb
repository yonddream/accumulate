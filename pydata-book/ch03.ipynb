{
 "cells": [
  {
   "cell_type": "markdown",
   "metadata": {},
   "source": [
    "### Tab健自动完成\n",
    "shell中输入表达式，只需要按下tab键，当前命名空间中任何与输入的字符串想匹配的变量（对象、函数等）就会被找出来。   \n",
    "tab自动完成还可以用于函数关键字参数，文件路径匹配。"
   ]
  },
  {
   "cell_type": "markdown",
   "metadata": {},
   "source": [
    "### 内省\n",
    "在变量前面或后面加上问号(?)可以将有关该对象的一些通用信息显示出来。如果是函数或实例方法，有docstring也会显示出来。  \n",
    "加上??会显示函数的源代码。还可以配合使用通配符(*)显示该通配符表达式相匹配的所有名称。  "
   ]
  },
  {
   "cell_type": "code",
   "execution_count": 1,
   "metadata": {
    "collapsed": true
   },
   "outputs": [],
   "source": [
    "import numpy as np\n",
    "np.*load*?"
   ]
  },
  {
   "cell_type": "markdown",
   "metadata": {},
   "source": [
    "### %run命令\n",
    "在shell中你可以直接使用 `%run script_test.py`，执行后该文件中的所有变量可以在shell中访问了。如果需要访问shell中的变量需要使用命令`%run -i`     \n",
    "当run中的代码或者shell中的代码执行过长时，可以使用Ctrl-C中断正在执行的代码。"
   ]
  },
  {
   "cell_type": "code",
   "execution_count": 2,
   "metadata": {},
   "outputs": [],
   "source": [
    "%run ch03/script_test.py"
   ]
  },
  {
   "cell_type": "markdown",
   "metadata": {},
   "source": [
    "### 魔术命令\n",
    "以%开头的为魔术命令，在shell中有一些特殊的作用，魔术命令默认也可以不使用%，只需要没有定义其同名的变量即可。可以使用%automagic打开或关闭。  \n",
    "###### 下面是一些常用的魔术命令\n",
    "命令 | 说明 \n",
    "----|----\n",
    "%quickref | 显示Ipython的快速参考  \n",
    "%magic | 显示所有魔术命令的详细文档  \n",
    "%debug | 从最新的异常追踪的底部进入交互式调试器  \n",
    "%hist | 打印命令的输入历史\n",
    "%time *statement* | 报告statement的执行时间  \n",
    "%timeit *statement* | 多次执行statement计算平均时间  \n",
    "%who who_ls whos | 显示命名空间中定义的变量，信息级别/冗余度可变  \n",
    "%xdel *variable* | 删除variable，并尝试清除shell上的一切引用\n",
    "%logstart | 记录整个控制台会话日志，相关的还有logoff、logon、logstate、logstop"
   ]
  },
  {
   "cell_type": "code",
   "execution_count": 3,
   "metadata": {
    "collapsed": true
   },
   "outputs": [],
   "source": [
    "%magic "
   ]
  },
  {
   "cell_type": "markdown",
   "metadata": {},
   "source": [
    "### 输入和输出变量\n",
    "Ipython会将输入和输出的引用保存在特殊变量中。最近的2个变量分别保存在_和__中。  \n",
    "输入的文本保存在_iX的变量中，其中X为输入行的行号。_X为输出的文本。可以配合exec使用`exec _iX`重新执行。"
   ]
  },
  {
   "cell_type": "code",
   "execution_count": 4,
   "metadata": {
    "collapsed": true
   },
   "outputs": [],
   "source": [
    "foo = \"bar\""
   ]
  },
  {
   "cell_type": "code",
   "execution_count": 5,
   "metadata": {},
   "outputs": [
    {
     "data": {
      "text/plain": [
       "'bar'"
      ]
     },
     "execution_count": 5,
     "metadata": {},
     "output_type": "execute_result"
    }
   ],
   "source": [
    "foo"
   ]
  },
  {
   "cell_type": "code",
   "execution_count": 6,
   "metadata": {},
   "outputs": [
    {
     "data": {
      "text/plain": [
       "'foo'"
      ]
     },
     "execution_count": 6,
     "metadata": {},
     "output_type": "execute_result"
    }
   ],
   "source": [
    "_i5"
   ]
  },
  {
   "cell_type": "code",
   "execution_count": 7,
   "metadata": {},
   "outputs": [
    {
     "data": {
      "text/plain": [
       "'bar'"
      ]
     },
     "execution_count": 7,
     "metadata": {},
     "output_type": "execute_result"
    }
   ],
   "source": [
    "_5"
   ]
  },
  {
   "cell_type": "markdown",
   "metadata": {},
   "source": [
    "### 与操作系统交互\n",
    "命令 | 说明\n",
    "---- | ----\n",
    "!sh | 在shell中执行bash\n",
    "output = !sh args | 执行sh，并将stdout存放到output中\n",
    "%alias *alias_name sh* | 定义别名\n",
    "%cd *directory* | 将系统工作目录更改为directory\n",
    "%pwd | 返回系统的当前工作目录\n",
    "%pushd *directory* | 将当前目录入栈，并转向目标目录\n",
    "%popd | 弹出栈顶目录，并转向该目录\n",
    "%dirs | 返回一个含有当前目录栈的列表\n",
    "%dhist | 打印目录访问历史\n",
    "%env | 以dict形式返回系统环境变量\n",
    "%bookmark | 使用Ipython的目录书签系统，可以将alias持久化"
   ]
  },
  {
   "cell_type": "code",
   "execution_count": 8,
   "metadata": {},
   "outputs": [
    {
     "data": {
      "text/plain": [
       "'inet 127.0.0.1 netmask 0xff000000'"
      ]
     },
     "execution_count": 8,
     "metadata": {},
     "output_type": "execute_result"
    }
   ],
   "source": [
    "# 执行系统命令，结果返回给Python变量\n",
    "ip_info = !ifconfig | grep \"inet\"\n",
    "ip_info[0].strip()"
   ]
  },
  {
   "cell_type": "code",
   "execution_count": 9,
   "metadata": {},
   "outputs": [
    {
     "name": "stdout",
     "output_type": "stream",
     "text": [
      "ch03.ipynb ch03.md\r\n",
      "\r\n",
      "ch03:\r\n",
      "ipython_bug.py script_test.py stinkbug.png\r\n"
     ]
    }
   ],
   "source": [
    "# 可以使用Python变量来执行系统命令\n",
    "foo = 'ch03*'\n",
    "!ls $foo"
   ]
  },
  {
   "cell_type": "code",
   "execution_count": 10,
   "metadata": {},
   "outputs": [],
   "source": [
    "# 设置别名\n",
    "%alias ll ls -l"
   ]
  },
  {
   "cell_type": "code",
   "execution_count": 11,
   "metadata": {},
   "outputs": [
    {
     "name": "stdout",
     "output_type": "stream",
     "text": [
      "total 8\r\n",
      "lrwxr-xr-x     1 root  wheel      8  3 17  2017 \u001b[35mX11\u001b[m\u001b[m -> /opt/X11\r\n",
      "drwxr-xr-x  1066 root  wheel  36244  9 11 14:08 \u001b[34mbin\u001b[m\u001b[m\r\n",
      "drwxr-xr-x   261 root  wheel   8874  8  2 18:29 \u001b[34minclude\u001b[m\u001b[m\r\n",
      "drwxr-xr-x   304 root  wheel  10336  9 11 14:08 \u001b[34mlib\u001b[m\u001b[m\r\n",
      "drwxr-xr-x   210 root  wheel   7140  9 11 14:08 \u001b[34mlibexec\u001b[m\u001b[m\r\n",
      "drwxr-xr-x    15 root  wheel    510  6 28 10:34 \u001b[34mlocal\u001b[m\u001b[m\r\n",
      "drwxr-xr-x   246 root  wheel   8364  9 11 14:07 \u001b[34msbin\u001b[m\u001b[m\r\n",
      "drwxr-xr-x    47 root  wheel   1598  8  2 18:30 \u001b[34mshare\u001b[m\u001b[m\r\n",
      "drwxr-xr-x     5 root  wheel    170  4 29 08:16 \u001b[34mstandalone\u001b[m\u001b[m\r\n"
     ]
    }
   ],
   "source": [
    "ll /usr"
   ]
  },
  {
   "cell_type": "code",
   "execution_count": 12,
   "metadata": {
    "collapsed": true
   },
   "outputs": [],
   "source": [
    "# 执行多条命令\n",
    "%alias test_alias (cd ch03; ls; cd ..)"
   ]
  },
  {
   "cell_type": "code",
   "execution_count": 13,
   "metadata": {},
   "outputs": [
    {
     "name": "stdout",
     "output_type": "stream",
     "text": [
      "ipython_bug.py script_test.py stinkbug.png\r\n"
     ]
    }
   ],
   "source": [
    "test_alias"
   ]
  },
  {
   "cell_type": "code",
   "execution_count": 14,
   "metadata": {},
   "outputs": [],
   "source": [
    "# ipython的目录书签系统，和alias的区别是它会自动持久化，如果有相同的目录可以使用-b覆盖\n",
    "%bookmark db /usr/local/Cellar/python3/"
   ]
  },
  {
   "cell_type": "code",
   "execution_count": 15,
   "metadata": {},
   "outputs": [],
   "source": [
    "now_path = %pwd"
   ]
  },
  {
   "cell_type": "code",
   "execution_count": 16,
   "metadata": {},
   "outputs": [
    {
     "name": "stdout",
     "output_type": "stream",
     "text": [
      "(bookmark:db) -> /usr/local/Cellar/python3/\n",
      "/usr/local/Cellar/python3\n"
     ]
    }
   ],
   "source": [
    "cd db"
   ]
  },
  {
   "cell_type": "code",
   "execution_count": 17,
   "metadata": {},
   "outputs": [
    {
     "name": "stdout",
     "output_type": "stream",
     "text": [
      "/Users/linux/workspace/git/yonddream/accumulate/pydata-book\n"
     ]
    }
   ],
   "source": [
    "cd $now_path"
   ]
  },
  {
   "cell_type": "code",
   "execution_count": null,
   "metadata": {},
   "outputs": [
    {
     "name": "stdout",
     "output_type": "stream",
     "text": [
      "Automatic pdb calling has been turned ON\n"
     ]
    }
   ],
   "source": [
    "pdb"
   ]
  },
  {
   "cell_type": "code",
   "execution_count": null,
   "metadata": {
    "scrolled": true
   },
   "outputs": [
    {
     "ename": "AssertionError",
     "evalue": "",
     "output_type": "error",
     "traceback": [
      "\u001b[0;31m---------------------------------------------------------------------------\u001b[0m",
      "\u001b[0;31mAssertionError\u001b[0m                            Traceback (most recent call last)",
      "\u001b[0;32m/Users/linux/workspace/git/yonddream/accumulate/pydata-book/ch03/ipython_bug.py\u001b[0m in \u001b[0;36m<module>\u001b[0;34m()\u001b[0m\n\u001b[1;32m     13\u001b[0m     \u001b[0mthrows_an_exception\u001b[0m\u001b[0;34m(\u001b[0m\u001b[0;34m)\u001b[0m\u001b[0;34m\u001b[0m\u001b[0m\n\u001b[1;32m     14\u001b[0m \u001b[0;34m\u001b[0m\u001b[0m\n\u001b[0;32m---> 15\u001b[0;31m \u001b[0mcalling_things\u001b[0m\u001b[0;34m(\u001b[0m\u001b[0;34m)\u001b[0m\u001b[0;34m\u001b[0m\u001b[0m\n\u001b[0m",
      "\u001b[0;32m/Users/linux/workspace/git/yonddream/accumulate/pydata-book/ch03/ipython_bug.py\u001b[0m in \u001b[0;36mcalling_things\u001b[0;34m()\u001b[0m\n\u001b[1;32m     11\u001b[0m \u001b[0;32mdef\u001b[0m \u001b[0mcalling_things\u001b[0m\u001b[0;34m(\u001b[0m\u001b[0;34m)\u001b[0m\u001b[0;34m:\u001b[0m\u001b[0;34m\u001b[0m\u001b[0m\n\u001b[1;32m     12\u001b[0m     \u001b[0mworks_fine\u001b[0m\u001b[0;34m(\u001b[0m\u001b[0;34m)\u001b[0m\u001b[0;34m\u001b[0m\u001b[0m\n\u001b[0;32m---> 13\u001b[0;31m     \u001b[0mthrows_an_exception\u001b[0m\u001b[0;34m(\u001b[0m\u001b[0;34m)\u001b[0m\u001b[0;34m\u001b[0m\u001b[0m\n\u001b[0m\u001b[1;32m     14\u001b[0m \u001b[0;34m\u001b[0m\u001b[0m\n\u001b[1;32m     15\u001b[0m \u001b[0mcalling_things\u001b[0m\u001b[0;34m(\u001b[0m\u001b[0;34m)\u001b[0m\u001b[0;34m\u001b[0m\u001b[0m\n",
      "\u001b[0;32m/Users/linux/workspace/git/yonddream/accumulate/pydata-book/ch03/ipython_bug.py\u001b[0m in \u001b[0;36mthrows_an_exception\u001b[0;34m()\u001b[0m\n\u001b[1;32m      7\u001b[0m     \u001b[0ma\u001b[0m \u001b[0;34m=\u001b[0m \u001b[0;36m5\u001b[0m\u001b[0;34m\u001b[0m\u001b[0m\n\u001b[1;32m      8\u001b[0m     \u001b[0mb\u001b[0m \u001b[0;34m=\u001b[0m \u001b[0;36m6\u001b[0m\u001b[0;34m\u001b[0m\u001b[0m\n\u001b[0;32m----> 9\u001b[0;31m     \u001b[0;32massert\u001b[0m\u001b[0;34m(\u001b[0m\u001b[0ma\u001b[0m \u001b[0;34m+\u001b[0m \u001b[0mb\u001b[0m \u001b[0;34m==\u001b[0m \u001b[0;36m10\u001b[0m\u001b[0;34m)\u001b[0m\u001b[0;34m\u001b[0m\u001b[0m\n\u001b[0m\u001b[1;32m     10\u001b[0m \u001b[0;34m\u001b[0m\u001b[0m\n\u001b[1;32m     11\u001b[0m \u001b[0;32mdef\u001b[0m \u001b[0mcalling_things\u001b[0m\u001b[0;34m(\u001b[0m\u001b[0;34m)\u001b[0m\u001b[0;34m:\u001b[0m\u001b[0;34m\u001b[0m\u001b[0m\n",
      "\u001b[0;31mAssertionError\u001b[0m: "
     ]
    },
    {
     "name": "stdout",
     "output_type": "stream",
     "text": [
      "> \u001b[0;32m/Users/linux/workspace/git/yonddream/accumulate/pydata-book/ch03/ipython_bug.py\u001b[0m(9)\u001b[0;36mthrows_an_exception\u001b[0;34m()\u001b[0m\n",
      "\u001b[0;32m      7 \u001b[0;31m    \u001b[0ma\u001b[0m \u001b[0;34m=\u001b[0m \u001b[0;36m5\u001b[0m\u001b[0;34m\u001b[0m\u001b[0m\n",
      "\u001b[0m\u001b[0;32m      8 \u001b[0;31m    \u001b[0mb\u001b[0m \u001b[0;34m=\u001b[0m \u001b[0;36m6\u001b[0m\u001b[0;34m\u001b[0m\u001b[0m\n",
      "\u001b[0m\u001b[0;32m----> 9 \u001b[0;31m    \u001b[0;32massert\u001b[0m\u001b[0;34m(\u001b[0m\u001b[0ma\u001b[0m \u001b[0;34m+\u001b[0m \u001b[0mb\u001b[0m \u001b[0;34m==\u001b[0m \u001b[0;36m10\u001b[0m\u001b[0;34m)\u001b[0m\u001b[0;34m\u001b[0m\u001b[0m\n",
      "\u001b[0m\u001b[0;32m     10 \u001b[0;31m\u001b[0;34m\u001b[0m\u001b[0m\n",
      "\u001b[0m\u001b[0;32m     11 \u001b[0;31m\u001b[0;32mdef\u001b[0m \u001b[0mcalling_things\u001b[0m\u001b[0;34m(\u001b[0m\u001b[0;34m)\u001b[0m\u001b[0;34m:\u001b[0m\u001b[0;34m\u001b[0m\u001b[0m\n",
      "\u001b[0m\n",
      "ipdb> h\n",
      "\n",
      "Documented commands (type help <topic>):\n",
      "========================================\n",
      "EOF    c          d        h         next    pp       retval  u          whatis\n",
      "a      cl         debug    help      p       psource  run     unalias    where \n",
      "alias  clear      disable  ignore    pdef    q        rv      undisplay\n",
      "args   commands   display  interact  pdoc    quit     s       unt      \n",
      "b      condition  down     j         pfile   r        source  until    \n",
      "break  cont       enable   jump      pinfo   restart  step    up       \n",
      "bt     continue   exit     n         pinfo2  return   tbreak  w        \n",
      "\n",
      "Miscellaneous help topics:\n",
      "==========================\n",
      "exec  pdb\n",
      "\n",
      "Undocumented commands:\n",
      "======================\n",
      "l  list  ll  longlist\n",
      "\n"
     ]
    }
   ],
   "source": [
    "# pdb用法\n",
    "%run ch03/ipython_bug.py"
   ]
  },
  {
   "cell_type": "code",
   "execution_count": null,
   "metadata": {
    "collapsed": true
   },
   "outputs": [],
   "source": [
    "# pdb的一些其他使用方式\n",
    "# 可以将set_trace()方法代码中的任何希望停下来的地方，可以查看代码的情况\n",
    "def set_trace():\n",
    "    from IPython.core.debugger import Pdb\n",
    "    Pdb(color_scheme='linux').set_trace(sys._getframe().f._back)"
   ]
  },
  {
   "cell_type": "code",
   "execution_count": null,
   "metadata": {},
   "outputs": [],
   "source": [
    "# 可以直接执行函数然后进入调试模式\n",
    "def debug(f, *args, **kwargs):\n",
    "    from IPython.core.debugger import Pdb\n",
    "    Pdb(color_scheme='linux')\n",
    "    return pdb.runcall(f, *args, **kwargs)\n",
    "\n",
    "def f(x, y, z=1):\n",
    "    tmp = x + y\n",
    "    return tmp / z\n",
    "\n",
    "debug(f, 1, 2, z=3)"
   ]
  },
  {
   "cell_type": "code",
   "execution_count": null,
   "metadata": {
    "collapsed": true
   },
   "outputs": [],
   "source": [
    "# 可以使用run -d执行脚本，直接进入调试模式，-b加行号可以设置断点\n",
    "%run -d -b2 ch03/ipython_bug.py"
   ]
  },
  {
   "cell_type": "markdown",
   "metadata": {},
   "source": [
    "### 测试代码的执行时间： %time和%timeit"
   ]
  },
  {
   "cell_type": "code",
   "execution_count": null,
   "metadata": {
    "collapsed": true
   },
   "outputs": [],
   "source": [
    "strings = ['foo', 'foobar', 'baz', 'qux', 'python', 'Guido Van Rossum'] * 100000\n",
    "method1 = [x for x in strings if x.startswith('foo')]\n",
    "method2 = [x for x in strings if x[:3] == 'foo']"
   ]
  },
  {
   "cell_type": "code",
   "execution_count": null,
   "metadata": {
    "collapsed": true
   },
   "outputs": [],
   "source": [
    "# time可以得到函数执行时间\n",
    "%time method1 = [x for x in strings if x.startswith('foo')]\n",
    "%time method2 = [x for x in strings if x[:3] == 'foo']"
   ]
  },
  {
   "cell_type": "code",
   "execution_count": null,
   "metadata": {
    "collapsed": true
   },
   "outputs": [],
   "source": [
    "# timeit会执行多次然后得到平均执行时间\n",
    "%timeit [x for x in strings if x.startswith('foo')]"
   ]
  },
  {
   "cell_type": "markdown",
   "metadata": {},
   "source": [
    "### 基本性能分析：%prun和%run -p"
   ]
  },
  {
   "cell_type": "code",
   "execution_count": null,
   "metadata": {
    "collapsed": true
   },
   "outputs": [],
   "source": [
    "import numpy as np\n",
    "from numpy.linalg import eigvals\n",
    "def run_experiment(niter=100):\n",
    "    K = 100\n",
    "    results = []\n",
    "    for _ in range(niter):\n",
    "        mat = np.random.randn(K, K)\n",
    "        max_eigenvalue = np.abs(eigvals(mat)).max()\n",
    "        results.append(max_eigenvalue)\n",
    "    return results\n",
    "some_results = run_experiment()\n",
    "print('Largest one we saw: %s' % np.max(some_results))"
   ]
  },
  {
   "cell_type": "code",
   "execution_count": null,
   "metadata": {
    "collapsed": true
   },
   "outputs": [],
   "source": [
    "# 显示耗时最多的前7行\n",
    "%prun -l 7 -s cumulative run_experiment()\n",
    "# run一样能达到同样的效果，但是是执行的文件\n",
    "%run -p -s cumulative run_experiment.py"
   ]
  }
 ],
 "metadata": {
  "kernelspec": {
   "display_name": "Python 3",
   "language": "python",
   "name": "python3"
  },
  "language_info": {
   "codemirror_mode": {
    "name": "ipython",
    "version": 3
   },
   "file_extension": ".py",
   "mimetype": "text/x-python",
   "name": "python",
   "nbconvert_exporter": "python",
   "pygments_lexer": "ipython3",
   "version": "3.6.0"
  }
 },
 "nbformat": 4,
 "nbformat_minor": 2
}
